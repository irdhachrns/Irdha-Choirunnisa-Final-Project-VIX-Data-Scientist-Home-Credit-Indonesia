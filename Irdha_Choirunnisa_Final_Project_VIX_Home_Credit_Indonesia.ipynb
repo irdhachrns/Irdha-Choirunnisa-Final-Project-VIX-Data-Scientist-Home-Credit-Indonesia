{
  "nbformat": 4,
  "nbformat_minor": 0,
  "metadata": {
    "colab": {
      "name": "Irdha Choirunnisa_Final Project VIX Home Credit Indonesia.ipynb",
      "provenance": [],
      "collapsed_sections": []
    },
    "kernelspec": {
      "name": "python3",
      "display_name": "Python 3"
    },
    "language_info": {
      "name": "python"
    }
  },
  "cells": [
    {
      "cell_type": "markdown",
      "source": [
        "# Library"
      ],
      "metadata": {
        "id": "apOfFlqXOBkC"
      }
    },
    {
      "cell_type": "code",
      "execution_count": null,
      "metadata": {
        "id": "KM0jL0GmHE_o"
      },
      "outputs": [],
      "source": [
        "import numpy as np\n",
        "import pandas as pd\n",
        "pd.set_option('display.max_columns', None)\n",
        "pd.set_option('display.max_rows', 99)\n",
        "import seaborn as sns\n",
        "import matplotlib.pyplot as plt"
      ]
    },
    {
      "cell_type": "markdown",
      "source": [
        "# Importing Data"
      ],
      "metadata": {
        "id": "VW0cyhyIOOsO"
      }
    },
    {
      "cell_type": "code",
      "source": [
        "from google.colab import drive\n",
        "drive.mount('/content/drive')"
      ],
      "metadata": {
        "colab": {
          "base_uri": "https://localhost:8080/"
        },
        "id": "PkThl21IHpiv",
        "outputId": "b62036d5-be82-4260-e19e-7e1c73473385"
      },
      "execution_count": null,
      "outputs": [
        {
          "output_type": "stream",
          "name": "stdout",
          "text": [
            "Mounted at /content/drive\n"
          ]
        }
      ]
    },
    {
      "cell_type": "code",
      "source": [
        "dataraw_train = pd.read_csv('/content/drive/MyDrive/VIX/Dataset final project home credit indonesia/application_train.csv')\n",
        "dataraw_test = pd.read_csv('/content/drive/MyDrive/VIX/Dataset final project home credit indonesia/application_test.csv')"
      ],
      "metadata": {
        "id": "VgmS0MU_IJ27"
      },
      "execution_count": null,
      "outputs": []
    },
    {
      "cell_type": "code",
      "source": [
        "frames = [dataraw_train, dataraw_test]\n",
        "dataraw = pd.concat(frames)"
      ],
      "metadata": {
        "id": "3AIUCQmmZRsJ"
      },
      "execution_count": null,
      "outputs": []
    },
    {
      "cell_type": "markdown",
      "source": [
        "# Exporting data"
      ],
      "metadata": {
        "id": "rISh0hFDOitc"
      }
    },
    {
      "cell_type": "code",
      "source": [
        "dataraw_train.info()"
      ],
      "metadata": {
        "colab": {
          "base_uri": "https://localhost:8080/"
        },
        "id": "yghpIygRIae9",
        "outputId": "b5e5515c-a42f-4538-d11b-a0ba38a908f3"
      },
      "execution_count": null,
      "outputs": [
        {
          "output_type": "stream",
          "name": "stdout",
          "text": [
            "<class 'pandas.core.frame.DataFrame'>\n",
            "RangeIndex: 307511 entries, 0 to 307510\n",
            "Columns: 122 entries, SK_ID_CURR to AMT_REQ_CREDIT_BUREAU_YEAR\n",
            "dtypes: float64(65), int64(41), object(16)\n",
            "memory usage: 286.2+ MB\n"
          ]
        }
      ]
    },
    {
      "cell_type": "code",
      "source": [
        "dataraw.columns"
      ],
      "metadata": {
        "colab": {
          "base_uri": "https://localhost:8080/"
        },
        "id": "scJlWXz0JBCd",
        "outputId": "5690ef15-9140-4b2b-8c0d-3831f9e38200"
      },
      "execution_count": null,
      "outputs": [
        {
          "output_type": "execute_result",
          "data": {
            "text/plain": [
              "Index(['SK_ID_CURR', 'TARGET', 'NAME_CONTRACT_TYPE', 'CODE_GENDER',\n",
              "       'FLAG_OWN_CAR', 'FLAG_OWN_REALTY', 'CNT_CHILDREN', 'AMT_INCOME_TOTAL',\n",
              "       'AMT_CREDIT', 'AMT_ANNUITY',\n",
              "       ...\n",
              "       'FLAG_DOCUMENT_18', 'FLAG_DOCUMENT_19', 'FLAG_DOCUMENT_20',\n",
              "       'FLAG_DOCUMENT_21', 'AMT_REQ_CREDIT_BUREAU_HOUR',\n",
              "       'AMT_REQ_CREDIT_BUREAU_DAY', 'AMT_REQ_CREDIT_BUREAU_WEEK',\n",
              "       'AMT_REQ_CREDIT_BUREAU_MON', 'AMT_REQ_CREDIT_BUREAU_QRT',\n",
              "       'AMT_REQ_CREDIT_BUREAU_YEAR'],\n",
              "      dtype='object', length=122)"
            ]
          },
          "metadata": {},
          "execution_count": 6
        }
      ]
    },
    {
      "cell_type": "code",
      "source": [
        "dataraw_train.head()"
      ],
      "metadata": {
        "colab": {
          "base_uri": "https://localhost:8080/",
          "height": 340
        },
        "id": "MLJ_CXPrJgtf",
        "outputId": "49eb205a-76cb-48a6-d617-8283c23d628b"
      },
      "execution_count": null,
      "outputs": [
        {
          "output_type": "execute_result",
          "data": {
            "text/plain": [
              "   SK_ID_CURR  TARGET NAME_CONTRACT_TYPE CODE_GENDER FLAG_OWN_CAR  \\\n",
              "0      100002       1         Cash loans           M            N   \n",
              "1      100003       0         Cash loans           F            N   \n",
              "2      100004       0    Revolving loans           M            Y   \n",
              "3      100006       0         Cash loans           F            N   \n",
              "4      100007       0         Cash loans           M            N   \n",
              "\n",
              "  FLAG_OWN_REALTY  CNT_CHILDREN  AMT_INCOME_TOTAL  AMT_CREDIT  AMT_ANNUITY  \\\n",
              "0               Y             0          202500.0    406597.5      24700.5   \n",
              "1               N             0          270000.0   1293502.5      35698.5   \n",
              "2               Y             0           67500.0    135000.0       6750.0   \n",
              "3               Y             0          135000.0    312682.5      29686.5   \n",
              "4               Y             0          121500.0    513000.0      21865.5   \n",
              "\n",
              "   AMT_GOODS_PRICE NAME_TYPE_SUITE NAME_INCOME_TYPE  \\\n",
              "0         351000.0   Unaccompanied          Working   \n",
              "1        1129500.0          Family    State servant   \n",
              "2         135000.0   Unaccompanied          Working   \n",
              "3         297000.0   Unaccompanied          Working   \n",
              "4         513000.0   Unaccompanied          Working   \n",
              "\n",
              "             NAME_EDUCATION_TYPE    NAME_FAMILY_STATUS  NAME_HOUSING_TYPE  \\\n",
              "0  Secondary / secondary special  Single / not married  House / apartment   \n",
              "1               Higher education               Married  House / apartment   \n",
              "2  Secondary / secondary special  Single / not married  House / apartment   \n",
              "3  Secondary / secondary special        Civil marriage  House / apartment   \n",
              "4  Secondary / secondary special  Single / not married  House / apartment   \n",
              "\n",
              "   REGION_POPULATION_RELATIVE  DAYS_BIRTH  DAYS_EMPLOYED  DAYS_REGISTRATION  \\\n",
              "0                    0.018801       -9461           -637            -3648.0   \n",
              "1                    0.003541      -16765          -1188            -1186.0   \n",
              "2                    0.010032      -19046           -225            -4260.0   \n",
              "3                    0.008019      -19005          -3039            -9833.0   \n",
              "4                    0.028663      -19932          -3038            -4311.0   \n",
              "\n",
              "   DAYS_ID_PUBLISH  OWN_CAR_AGE  FLAG_MOBIL  FLAG_EMP_PHONE  FLAG_WORK_PHONE  \\\n",
              "0            -2120          NaN           1               1                0   \n",
              "1             -291          NaN           1               1                0   \n",
              "2            -2531         26.0           1               1                1   \n",
              "3            -2437          NaN           1               1                0   \n",
              "4            -3458          NaN           1               1                0   \n",
              "\n",
              "   FLAG_CONT_MOBILE  FLAG_PHONE  FLAG_EMAIL OCCUPATION_TYPE  CNT_FAM_MEMBERS  \\\n",
              "0                 1           1           0        Laborers              1.0   \n",
              "1                 1           1           0      Core staff              2.0   \n",
              "2                 1           1           0        Laborers              1.0   \n",
              "3                 1           0           0        Laborers              2.0   \n",
              "4                 1           0           0      Core staff              1.0   \n",
              "\n",
              "   REGION_RATING_CLIENT  REGION_RATING_CLIENT_W_CITY  \\\n",
              "0                     2                            2   \n",
              "1                     1                            1   \n",
              "2                     2                            2   \n",
              "3                     2                            2   \n",
              "4                     2                            2   \n",
              "\n",
              "  WEEKDAY_APPR_PROCESS_START  HOUR_APPR_PROCESS_START  \\\n",
              "0                  WEDNESDAY                       10   \n",
              "1                     MONDAY                       11   \n",
              "2                     MONDAY                        9   \n",
              "3                  WEDNESDAY                       17   \n",
              "4                   THURSDAY                       11   \n",
              "\n",
              "   REG_REGION_NOT_LIVE_REGION  REG_REGION_NOT_WORK_REGION  \\\n",
              "0                           0                           0   \n",
              "1                           0                           0   \n",
              "2                           0                           0   \n",
              "3                           0                           0   \n",
              "4                           0                           0   \n",
              "\n",
              "   LIVE_REGION_NOT_WORK_REGION  REG_CITY_NOT_LIVE_CITY  \\\n",
              "0                            0                       0   \n",
              "1                            0                       0   \n",
              "2                            0                       0   \n",
              "3                            0                       0   \n",
              "4                            0                       0   \n",
              "\n",
              "   REG_CITY_NOT_WORK_CITY  LIVE_CITY_NOT_WORK_CITY       ORGANIZATION_TYPE  \\\n",
              "0                       0                        0  Business Entity Type 3   \n",
              "1                       0                        0                  School   \n",
              "2                       0                        0              Government   \n",
              "3                       0                        0  Business Entity Type 3   \n",
              "4                       1                        1                Religion   \n",
              "\n",
              "   EXT_SOURCE_1  EXT_SOURCE_2  EXT_SOURCE_3  APARTMENTS_AVG  BASEMENTAREA_AVG  \\\n",
              "0      0.083037      0.262949      0.139376          0.0247            0.0369   \n",
              "1      0.311267      0.622246           NaN          0.0959            0.0529   \n",
              "2           NaN      0.555912      0.729567             NaN               NaN   \n",
              "3           NaN      0.650442           NaN             NaN               NaN   \n",
              "4           NaN      0.322738           NaN             NaN               NaN   \n",
              "\n",
              "   YEARS_BEGINEXPLUATATION_AVG  YEARS_BUILD_AVG  COMMONAREA_AVG  \\\n",
              "0                       0.9722           0.6192          0.0143   \n",
              "1                       0.9851           0.7960          0.0605   \n",
              "2                          NaN              NaN             NaN   \n",
              "3                          NaN              NaN             NaN   \n",
              "4                          NaN              NaN             NaN   \n",
              "\n",
              "   ELEVATORS_AVG  ENTRANCES_AVG  FLOORSMAX_AVG  FLOORSMIN_AVG  LANDAREA_AVG  \\\n",
              "0           0.00         0.0690         0.0833         0.1250        0.0369   \n",
              "1           0.08         0.0345         0.2917         0.3333        0.0130   \n",
              "2            NaN            NaN            NaN            NaN           NaN   \n",
              "3            NaN            NaN            NaN            NaN           NaN   \n",
              "4            NaN            NaN            NaN            NaN           NaN   \n",
              "\n",
              "   LIVINGAPARTMENTS_AVG  LIVINGAREA_AVG  NONLIVINGAPARTMENTS_AVG  \\\n",
              "0                0.0202          0.0190                   0.0000   \n",
              "1                0.0773          0.0549                   0.0039   \n",
              "2                   NaN             NaN                      NaN   \n",
              "3                   NaN             NaN                      NaN   \n",
              "4                   NaN             NaN                      NaN   \n",
              "\n",
              "   NONLIVINGAREA_AVG  APARTMENTS_MODE  BASEMENTAREA_MODE  \\\n",
              "0             0.0000           0.0252             0.0383   \n",
              "1             0.0098           0.0924             0.0538   \n",
              "2                NaN              NaN                NaN   \n",
              "3                NaN              NaN                NaN   \n",
              "4                NaN              NaN                NaN   \n",
              "\n",
              "   YEARS_BEGINEXPLUATATION_MODE  YEARS_BUILD_MODE  COMMONAREA_MODE  \\\n",
              "0                        0.9722            0.6341           0.0144   \n",
              "1                        0.9851            0.8040           0.0497   \n",
              "2                           NaN               NaN              NaN   \n",
              "3                           NaN               NaN              NaN   \n",
              "4                           NaN               NaN              NaN   \n",
              "\n",
              "   ELEVATORS_MODE  ENTRANCES_MODE  FLOORSMAX_MODE  FLOORSMIN_MODE  \\\n",
              "0          0.0000          0.0690          0.0833          0.1250   \n",
              "1          0.0806          0.0345          0.2917          0.3333   \n",
              "2             NaN             NaN             NaN             NaN   \n",
              "3             NaN             NaN             NaN             NaN   \n",
              "4             NaN             NaN             NaN             NaN   \n",
              "\n",
              "   LANDAREA_MODE  LIVINGAPARTMENTS_MODE  LIVINGAREA_MODE  \\\n",
              "0         0.0377                  0.022           0.0198   \n",
              "1         0.0128                  0.079           0.0554   \n",
              "2            NaN                    NaN              NaN   \n",
              "3            NaN                    NaN              NaN   \n",
              "4            NaN                    NaN              NaN   \n",
              "\n",
              "   NONLIVINGAPARTMENTS_MODE  NONLIVINGAREA_MODE  APARTMENTS_MEDI  \\\n",
              "0                       0.0                 0.0           0.0250   \n",
              "1                       0.0                 0.0           0.0968   \n",
              "2                       NaN                 NaN              NaN   \n",
              "3                       NaN                 NaN              NaN   \n",
              "4                       NaN                 NaN              NaN   \n",
              "\n",
              "   BASEMENTAREA_MEDI  YEARS_BEGINEXPLUATATION_MEDI  YEARS_BUILD_MEDI  \\\n",
              "0             0.0369                        0.9722            0.6243   \n",
              "1             0.0529                        0.9851            0.7987   \n",
              "2                NaN                           NaN               NaN   \n",
              "3                NaN                           NaN               NaN   \n",
              "4                NaN                           NaN               NaN   \n",
              "\n",
              "   COMMONAREA_MEDI  ELEVATORS_MEDI  ENTRANCES_MEDI  FLOORSMAX_MEDI  \\\n",
              "0           0.0144            0.00          0.0690          0.0833   \n",
              "1           0.0608            0.08          0.0345          0.2917   \n",
              "2              NaN             NaN             NaN             NaN   \n",
              "3              NaN             NaN             NaN             NaN   \n",
              "4              NaN             NaN             NaN             NaN   \n",
              "\n",
              "   FLOORSMIN_MEDI  LANDAREA_MEDI  LIVINGAPARTMENTS_MEDI  LIVINGAREA_MEDI  \\\n",
              "0          0.1250         0.0375                 0.0205           0.0193   \n",
              "1          0.3333         0.0132                 0.0787           0.0558   \n",
              "2             NaN            NaN                    NaN              NaN   \n",
              "3             NaN            NaN                    NaN              NaN   \n",
              "4             NaN            NaN                    NaN              NaN   \n",
              "\n",
              "   NONLIVINGAPARTMENTS_MEDI  NONLIVINGAREA_MEDI FONDKAPREMONT_MODE  \\\n",
              "0                    0.0000                0.00   reg oper account   \n",
              "1                    0.0039                0.01   reg oper account   \n",
              "2                       NaN                 NaN                NaN   \n",
              "3                       NaN                 NaN                NaN   \n",
              "4                       NaN                 NaN                NaN   \n",
              "\n",
              "   HOUSETYPE_MODE  TOTALAREA_MODE WALLSMATERIAL_MODE EMERGENCYSTATE_MODE  \\\n",
              "0  block of flats          0.0149       Stone, brick                  No   \n",
              "1  block of flats          0.0714              Block                  No   \n",
              "2             NaN             NaN                NaN                 NaN   \n",
              "3             NaN             NaN                NaN                 NaN   \n",
              "4             NaN             NaN                NaN                 NaN   \n",
              "\n",
              "   OBS_30_CNT_SOCIAL_CIRCLE  DEF_30_CNT_SOCIAL_CIRCLE  \\\n",
              "0                       2.0                       2.0   \n",
              "1                       1.0                       0.0   \n",
              "2                       0.0                       0.0   \n",
              "3                       2.0                       0.0   \n",
              "4                       0.0                       0.0   \n",
              "\n",
              "   OBS_60_CNT_SOCIAL_CIRCLE  DEF_60_CNT_SOCIAL_CIRCLE  DAYS_LAST_PHONE_CHANGE  \\\n",
              "0                       2.0                       2.0                 -1134.0   \n",
              "1                       1.0                       0.0                  -828.0   \n",
              "2                       0.0                       0.0                  -815.0   \n",
              "3                       2.0                       0.0                  -617.0   \n",
              "4                       0.0                       0.0                 -1106.0   \n",
              "\n",
              "   FLAG_DOCUMENT_2  FLAG_DOCUMENT_3  FLAG_DOCUMENT_4  FLAG_DOCUMENT_5  \\\n",
              "0                0                1                0                0   \n",
              "1                0                1                0                0   \n",
              "2                0                0                0                0   \n",
              "3                0                1                0                0   \n",
              "4                0                0                0                0   \n",
              "\n",
              "   FLAG_DOCUMENT_6  FLAG_DOCUMENT_7  FLAG_DOCUMENT_8  FLAG_DOCUMENT_9  \\\n",
              "0                0                0                0                0   \n",
              "1                0                0                0                0   \n",
              "2                0                0                0                0   \n",
              "3                0                0                0                0   \n",
              "4                0                0                1                0   \n",
              "\n",
              "   FLAG_DOCUMENT_10  FLAG_DOCUMENT_11  FLAG_DOCUMENT_12  FLAG_DOCUMENT_13  \\\n",
              "0                 0                 0                 0                 0   \n",
              "1                 0                 0                 0                 0   \n",
              "2                 0                 0                 0                 0   \n",
              "3                 0                 0                 0                 0   \n",
              "4                 0                 0                 0                 0   \n",
              "\n",
              "   FLAG_DOCUMENT_14  FLAG_DOCUMENT_15  FLAG_DOCUMENT_16  FLAG_DOCUMENT_17  \\\n",
              "0                 0                 0                 0                 0   \n",
              "1                 0                 0                 0                 0   \n",
              "2                 0                 0                 0                 0   \n",
              "3                 0                 0                 0                 0   \n",
              "4                 0                 0                 0                 0   \n",
              "\n",
              "   FLAG_DOCUMENT_18  FLAG_DOCUMENT_19  FLAG_DOCUMENT_20  FLAG_DOCUMENT_21  \\\n",
              "0                 0                 0                 0                 0   \n",
              "1                 0                 0                 0                 0   \n",
              "2                 0                 0                 0                 0   \n",
              "3                 0                 0                 0                 0   \n",
              "4                 0                 0                 0                 0   \n",
              "\n",
              "   AMT_REQ_CREDIT_BUREAU_HOUR  AMT_REQ_CREDIT_BUREAU_DAY  \\\n",
              "0                         0.0                        0.0   \n",
              "1                         0.0                        0.0   \n",
              "2                         0.0                        0.0   \n",
              "3                         NaN                        NaN   \n",
              "4                         0.0                        0.0   \n",
              "\n",
              "   AMT_REQ_CREDIT_BUREAU_WEEK  AMT_REQ_CREDIT_BUREAU_MON  \\\n",
              "0                         0.0                        0.0   \n",
              "1                         0.0                        0.0   \n",
              "2                         0.0                        0.0   \n",
              "3                         NaN                        NaN   \n",
              "4                         0.0                        0.0   \n",
              "\n",
              "   AMT_REQ_CREDIT_BUREAU_QRT  AMT_REQ_CREDIT_BUREAU_YEAR  \n",
              "0                        0.0                         1.0  \n",
              "1                        0.0                         0.0  \n",
              "2                        0.0                         0.0  \n",
              "3                        NaN                         NaN  \n",
              "4                        0.0                         0.0  "
            ],
            "text/html": [
              "\n",
              "  <div id=\"df-76b7cecf-3781-4457-af5c-40f7d9a4a9d1\">\n",
              "    <div class=\"colab-df-container\">\n",
              "      <div>\n",
              "<style scoped>\n",
              "    .dataframe tbody tr th:only-of-type {\n",
              "        vertical-align: middle;\n",
              "    }\n",
              "\n",
              "    .dataframe tbody tr th {\n",
              "        vertical-align: top;\n",
              "    }\n",
              "\n",
              "    .dataframe thead th {\n",
              "        text-align: right;\n",
              "    }\n",
              "</style>\n",
              "<table border=\"1\" class=\"dataframe\">\n",
              "  <thead>\n",
              "    <tr style=\"text-align: right;\">\n",
              "      <th></th>\n",
              "      <th>SK_ID_CURR</th>\n",
              "      <th>TARGET</th>\n",
              "      <th>NAME_CONTRACT_TYPE</th>\n",
              "      <th>CODE_GENDER</th>\n",
              "      <th>FLAG_OWN_CAR</th>\n",
              "      <th>FLAG_OWN_REALTY</th>\n",
              "      <th>CNT_CHILDREN</th>\n",
              "      <th>AMT_INCOME_TOTAL</th>\n",
              "      <th>AMT_CREDIT</th>\n",
              "      <th>AMT_ANNUITY</th>\n",
              "      <th>AMT_GOODS_PRICE</th>\n",
              "      <th>NAME_TYPE_SUITE</th>\n",
              "      <th>NAME_INCOME_TYPE</th>\n",
              "      <th>NAME_EDUCATION_TYPE</th>\n",
              "      <th>NAME_FAMILY_STATUS</th>\n",
              "      <th>NAME_HOUSING_TYPE</th>\n",
              "      <th>REGION_POPULATION_RELATIVE</th>\n",
              "      <th>DAYS_BIRTH</th>\n",
              "      <th>DAYS_EMPLOYED</th>\n",
              "      <th>DAYS_REGISTRATION</th>\n",
              "      <th>DAYS_ID_PUBLISH</th>\n",
              "      <th>OWN_CAR_AGE</th>\n",
              "      <th>FLAG_MOBIL</th>\n",
              "      <th>FLAG_EMP_PHONE</th>\n",
              "      <th>FLAG_WORK_PHONE</th>\n",
              "      <th>FLAG_CONT_MOBILE</th>\n",
              "      <th>FLAG_PHONE</th>\n",
              "      <th>FLAG_EMAIL</th>\n",
              "      <th>OCCUPATION_TYPE</th>\n",
              "      <th>CNT_FAM_MEMBERS</th>\n",
              "      <th>REGION_RATING_CLIENT</th>\n",
              "      <th>REGION_RATING_CLIENT_W_CITY</th>\n",
              "      <th>WEEKDAY_APPR_PROCESS_START</th>\n",
              "      <th>HOUR_APPR_PROCESS_START</th>\n",
              "      <th>REG_REGION_NOT_LIVE_REGION</th>\n",
              "      <th>REG_REGION_NOT_WORK_REGION</th>\n",
              "      <th>LIVE_REGION_NOT_WORK_REGION</th>\n",
              "      <th>REG_CITY_NOT_LIVE_CITY</th>\n",
              "      <th>REG_CITY_NOT_WORK_CITY</th>\n",
              "      <th>LIVE_CITY_NOT_WORK_CITY</th>\n",
              "      <th>ORGANIZATION_TYPE</th>\n",
              "      <th>EXT_SOURCE_1</th>\n",
              "      <th>EXT_SOURCE_2</th>\n",
              "      <th>EXT_SOURCE_3</th>\n",
              "      <th>APARTMENTS_AVG</th>\n",
              "      <th>BASEMENTAREA_AVG</th>\n",
              "      <th>YEARS_BEGINEXPLUATATION_AVG</th>\n",
              "      <th>YEARS_BUILD_AVG</th>\n",
              "      <th>COMMONAREA_AVG</th>\n",
              "      <th>ELEVATORS_AVG</th>\n",
              "      <th>ENTRANCES_AVG</th>\n",
              "      <th>FLOORSMAX_AVG</th>\n",
              "      <th>FLOORSMIN_AVG</th>\n",
              "      <th>LANDAREA_AVG</th>\n",
              "      <th>LIVINGAPARTMENTS_AVG</th>\n",
              "      <th>LIVINGAREA_AVG</th>\n",
              "      <th>NONLIVINGAPARTMENTS_AVG</th>\n",
              "      <th>NONLIVINGAREA_AVG</th>\n",
              "      <th>APARTMENTS_MODE</th>\n",
              "      <th>BASEMENTAREA_MODE</th>\n",
              "      <th>YEARS_BEGINEXPLUATATION_MODE</th>\n",
              "      <th>YEARS_BUILD_MODE</th>\n",
              "      <th>COMMONAREA_MODE</th>\n",
              "      <th>ELEVATORS_MODE</th>\n",
              "      <th>ENTRANCES_MODE</th>\n",
              "      <th>FLOORSMAX_MODE</th>\n",
              "      <th>FLOORSMIN_MODE</th>\n",
              "      <th>LANDAREA_MODE</th>\n",
              "      <th>LIVINGAPARTMENTS_MODE</th>\n",
              "      <th>LIVINGAREA_MODE</th>\n",
              "      <th>NONLIVINGAPARTMENTS_MODE</th>\n",
              "      <th>NONLIVINGAREA_MODE</th>\n",
              "      <th>APARTMENTS_MEDI</th>\n",
              "      <th>BASEMENTAREA_MEDI</th>\n",
              "      <th>YEARS_BEGINEXPLUATATION_MEDI</th>\n",
              "      <th>YEARS_BUILD_MEDI</th>\n",
              "      <th>COMMONAREA_MEDI</th>\n",
              "      <th>ELEVATORS_MEDI</th>\n",
              "      <th>ENTRANCES_MEDI</th>\n",
              "      <th>FLOORSMAX_MEDI</th>\n",
              "      <th>FLOORSMIN_MEDI</th>\n",
              "      <th>LANDAREA_MEDI</th>\n",
              "      <th>LIVINGAPARTMENTS_MEDI</th>\n",
              "      <th>LIVINGAREA_MEDI</th>\n",
              "      <th>NONLIVINGAPARTMENTS_MEDI</th>\n",
              "      <th>NONLIVINGAREA_MEDI</th>\n",
              "      <th>FONDKAPREMONT_MODE</th>\n",
              "      <th>HOUSETYPE_MODE</th>\n",
              "      <th>TOTALAREA_MODE</th>\n",
              "      <th>WALLSMATERIAL_MODE</th>\n",
              "      <th>EMERGENCYSTATE_MODE</th>\n",
              "      <th>OBS_30_CNT_SOCIAL_CIRCLE</th>\n",
              "      <th>DEF_30_CNT_SOCIAL_CIRCLE</th>\n",
              "      <th>OBS_60_CNT_SOCIAL_CIRCLE</th>\n",
              "      <th>DEF_60_CNT_SOCIAL_CIRCLE</th>\n",
              "      <th>DAYS_LAST_PHONE_CHANGE</th>\n",
              "      <th>FLAG_DOCUMENT_2</th>\n",
              "      <th>FLAG_DOCUMENT_3</th>\n",
              "      <th>FLAG_DOCUMENT_4</th>\n",
              "      <th>FLAG_DOCUMENT_5</th>\n",
              "      <th>FLAG_DOCUMENT_6</th>\n",
              "      <th>FLAG_DOCUMENT_7</th>\n",
              "      <th>FLAG_DOCUMENT_8</th>\n",
              "      <th>FLAG_DOCUMENT_9</th>\n",
              "      <th>FLAG_DOCUMENT_10</th>\n",
              "      <th>FLAG_DOCUMENT_11</th>\n",
              "      <th>FLAG_DOCUMENT_12</th>\n",
              "      <th>FLAG_DOCUMENT_13</th>\n",
              "      <th>FLAG_DOCUMENT_14</th>\n",
              "      <th>FLAG_DOCUMENT_15</th>\n",
              "      <th>FLAG_DOCUMENT_16</th>\n",
              "      <th>FLAG_DOCUMENT_17</th>\n",
              "      <th>FLAG_DOCUMENT_18</th>\n",
              "      <th>FLAG_DOCUMENT_19</th>\n",
              "      <th>FLAG_DOCUMENT_20</th>\n",
              "      <th>FLAG_DOCUMENT_21</th>\n",
              "      <th>AMT_REQ_CREDIT_BUREAU_HOUR</th>\n",
              "      <th>AMT_REQ_CREDIT_BUREAU_DAY</th>\n",
              "      <th>AMT_REQ_CREDIT_BUREAU_WEEK</th>\n",
              "      <th>AMT_REQ_CREDIT_BUREAU_MON</th>\n",
              "      <th>AMT_REQ_CREDIT_BUREAU_QRT</th>\n",
              "      <th>AMT_REQ_CREDIT_BUREAU_YEAR</th>\n",
              "    </tr>\n",
              "  </thead>\n",
              "  <tbody>\n",
              "    <tr>\n",
              "      <th>0</th>\n",
              "      <td>100002</td>\n",
              "      <td>1</td>\n",
              "      <td>Cash loans</td>\n",
              "      <td>M</td>\n",
              "      <td>N</td>\n",
              "      <td>Y</td>\n",
              "      <td>0</td>\n",
              "      <td>202500.0</td>\n",
              "      <td>406597.5</td>\n",
              "      <td>24700.5</td>\n",
              "      <td>351000.0</td>\n",
              "      <td>Unaccompanied</td>\n",
              "      <td>Working</td>\n",
              "      <td>Secondary / secondary special</td>\n",
              "      <td>Single / not married</td>\n",
              "      <td>House / apartment</td>\n",
              "      <td>0.018801</td>\n",
              "      <td>-9461</td>\n",
              "      <td>-637</td>\n",
              "      <td>-3648.0</td>\n",
              "      <td>-2120</td>\n",
              "      <td>NaN</td>\n",
              "      <td>1</td>\n",
              "      <td>1</td>\n",
              "      <td>0</td>\n",
              "      <td>1</td>\n",
              "      <td>1</td>\n",
              "      <td>0</td>\n",
              "      <td>Laborers</td>\n",
              "      <td>1.0</td>\n",
              "      <td>2</td>\n",
              "      <td>2</td>\n",
              "      <td>WEDNESDAY</td>\n",
              "      <td>10</td>\n",
              "      <td>0</td>\n",
              "      <td>0</td>\n",
              "      <td>0</td>\n",
              "      <td>0</td>\n",
              "      <td>0</td>\n",
              "      <td>0</td>\n",
              "      <td>Business Entity Type 3</td>\n",
              "      <td>0.083037</td>\n",
              "      <td>0.262949</td>\n",
              "      <td>0.139376</td>\n",
              "      <td>0.0247</td>\n",
              "      <td>0.0369</td>\n",
              "      <td>0.9722</td>\n",
              "      <td>0.6192</td>\n",
              "      <td>0.0143</td>\n",
              "      <td>0.00</td>\n",
              "      <td>0.0690</td>\n",
              "      <td>0.0833</td>\n",
              "      <td>0.1250</td>\n",
              "      <td>0.0369</td>\n",
              "      <td>0.0202</td>\n",
              "      <td>0.0190</td>\n",
              "      <td>0.0000</td>\n",
              "      <td>0.0000</td>\n",
              "      <td>0.0252</td>\n",
              "      <td>0.0383</td>\n",
              "      <td>0.9722</td>\n",
              "      <td>0.6341</td>\n",
              "      <td>0.0144</td>\n",
              "      <td>0.0000</td>\n",
              "      <td>0.0690</td>\n",
              "      <td>0.0833</td>\n",
              "      <td>0.1250</td>\n",
              "      <td>0.0377</td>\n",
              "      <td>0.022</td>\n",
              "      <td>0.0198</td>\n",
              "      <td>0.0</td>\n",
              "      <td>0.0</td>\n",
              "      <td>0.0250</td>\n",
              "      <td>0.0369</td>\n",
              "      <td>0.9722</td>\n",
              "      <td>0.6243</td>\n",
              "      <td>0.0144</td>\n",
              "      <td>0.00</td>\n",
              "      <td>0.0690</td>\n",
              "      <td>0.0833</td>\n",
              "      <td>0.1250</td>\n",
              "      <td>0.0375</td>\n",
              "      <td>0.0205</td>\n",
              "      <td>0.0193</td>\n",
              "      <td>0.0000</td>\n",
              "      <td>0.00</td>\n",
              "      <td>reg oper account</td>\n",
              "      <td>block of flats</td>\n",
              "      <td>0.0149</td>\n",
              "      <td>Stone, brick</td>\n",
              "      <td>No</td>\n",
              "      <td>2.0</td>\n",
              "      <td>2.0</td>\n",
              "      <td>2.0</td>\n",
              "      <td>2.0</td>\n",
              "      <td>-1134.0</td>\n",
              "      <td>0</td>\n",
              "      <td>1</td>\n",
              "      <td>0</td>\n",
              "      <td>0</td>\n",
              "      <td>0</td>\n",
              "      <td>0</td>\n",
              "      <td>0</td>\n",
              "      <td>0</td>\n",
              "      <td>0</td>\n",
              "      <td>0</td>\n",
              "      <td>0</td>\n",
              "      <td>0</td>\n",
              "      <td>0</td>\n",
              "      <td>0</td>\n",
              "      <td>0</td>\n",
              "      <td>0</td>\n",
              "      <td>0</td>\n",
              "      <td>0</td>\n",
              "      <td>0</td>\n",
              "      <td>0</td>\n",
              "      <td>0.0</td>\n",
              "      <td>0.0</td>\n",
              "      <td>0.0</td>\n",
              "      <td>0.0</td>\n",
              "      <td>0.0</td>\n",
              "      <td>1.0</td>\n",
              "    </tr>\n",
              "    <tr>\n",
              "      <th>1</th>\n",
              "      <td>100003</td>\n",
              "      <td>0</td>\n",
              "      <td>Cash loans</td>\n",
              "      <td>F</td>\n",
              "      <td>N</td>\n",
              "      <td>N</td>\n",
              "      <td>0</td>\n",
              "      <td>270000.0</td>\n",
              "      <td>1293502.5</td>\n",
              "      <td>35698.5</td>\n",
              "      <td>1129500.0</td>\n",
              "      <td>Family</td>\n",
              "      <td>State servant</td>\n",
              "      <td>Higher education</td>\n",
              "      <td>Married</td>\n",
              "      <td>House / apartment</td>\n",
              "      <td>0.003541</td>\n",
              "      <td>-16765</td>\n",
              "      <td>-1188</td>\n",
              "      <td>-1186.0</td>\n",
              "      <td>-291</td>\n",
              "      <td>NaN</td>\n",
              "      <td>1</td>\n",
              "      <td>1</td>\n",
              "      <td>0</td>\n",
              "      <td>1</td>\n",
              "      <td>1</td>\n",
              "      <td>0</td>\n",
              "      <td>Core staff</td>\n",
              "      <td>2.0</td>\n",
              "      <td>1</td>\n",
              "      <td>1</td>\n",
              "      <td>MONDAY</td>\n",
              "      <td>11</td>\n",
              "      <td>0</td>\n",
              "      <td>0</td>\n",
              "      <td>0</td>\n",
              "      <td>0</td>\n",
              "      <td>0</td>\n",
              "      <td>0</td>\n",
              "      <td>School</td>\n",
              "      <td>0.311267</td>\n",
              "      <td>0.622246</td>\n",
              "      <td>NaN</td>\n",
              "      <td>0.0959</td>\n",
              "      <td>0.0529</td>\n",
              "      <td>0.9851</td>\n",
              "      <td>0.7960</td>\n",
              "      <td>0.0605</td>\n",
              "      <td>0.08</td>\n",
              "      <td>0.0345</td>\n",
              "      <td>0.2917</td>\n",
              "      <td>0.3333</td>\n",
              "      <td>0.0130</td>\n",
              "      <td>0.0773</td>\n",
              "      <td>0.0549</td>\n",
              "      <td>0.0039</td>\n",
              "      <td>0.0098</td>\n",
              "      <td>0.0924</td>\n",
              "      <td>0.0538</td>\n",
              "      <td>0.9851</td>\n",
              "      <td>0.8040</td>\n",
              "      <td>0.0497</td>\n",
              "      <td>0.0806</td>\n",
              "      <td>0.0345</td>\n",
              "      <td>0.2917</td>\n",
              "      <td>0.3333</td>\n",
              "      <td>0.0128</td>\n",
              "      <td>0.079</td>\n",
              "      <td>0.0554</td>\n",
              "      <td>0.0</td>\n",
              "      <td>0.0</td>\n",
              "      <td>0.0968</td>\n",
              "      <td>0.0529</td>\n",
              "      <td>0.9851</td>\n",
              "      <td>0.7987</td>\n",
              "      <td>0.0608</td>\n",
              "      <td>0.08</td>\n",
              "      <td>0.0345</td>\n",
              "      <td>0.2917</td>\n",
              "      <td>0.3333</td>\n",
              "      <td>0.0132</td>\n",
              "      <td>0.0787</td>\n",
              "      <td>0.0558</td>\n",
              "      <td>0.0039</td>\n",
              "      <td>0.01</td>\n",
              "      <td>reg oper account</td>\n",
              "      <td>block of flats</td>\n",
              "      <td>0.0714</td>\n",
              "      <td>Block</td>\n",
              "      <td>No</td>\n",
              "      <td>1.0</td>\n",
              "      <td>0.0</td>\n",
              "      <td>1.0</td>\n",
              "      <td>0.0</td>\n",
              "      <td>-828.0</td>\n",
              "      <td>0</td>\n",
              "      <td>1</td>\n",
              "      <td>0</td>\n",
              "      <td>0</td>\n",
              "      <td>0</td>\n",
              "      <td>0</td>\n",
              "      <td>0</td>\n",
              "      <td>0</td>\n",
              "      <td>0</td>\n",
              "      <td>0</td>\n",
              "      <td>0</td>\n",
              "      <td>0</td>\n",
              "      <td>0</td>\n",
              "      <td>0</td>\n",
              "      <td>0</td>\n",
              "      <td>0</td>\n",
              "      <td>0</td>\n",
              "      <td>0</td>\n",
              "      <td>0</td>\n",
              "      <td>0</td>\n",
              "      <td>0.0</td>\n",
              "      <td>0.0</td>\n",
              "      <td>0.0</td>\n",
              "      <td>0.0</td>\n",
              "      <td>0.0</td>\n",
              "      <td>0.0</td>\n",
              "    </tr>\n",
              "    <tr>\n",
              "      <th>2</th>\n",
              "      <td>100004</td>\n",
              "      <td>0</td>\n",
              "      <td>Revolving loans</td>\n",
              "      <td>M</td>\n",
              "      <td>Y</td>\n",
              "      <td>Y</td>\n",
              "      <td>0</td>\n",
              "      <td>67500.0</td>\n",
              "      <td>135000.0</td>\n",
              "      <td>6750.0</td>\n",
              "      <td>135000.0</td>\n",
              "      <td>Unaccompanied</td>\n",
              "      <td>Working</td>\n",
              "      <td>Secondary / secondary special</td>\n",
              "      <td>Single / not married</td>\n",
              "      <td>House / apartment</td>\n",
              "      <td>0.010032</td>\n",
              "      <td>-19046</td>\n",
              "      <td>-225</td>\n",
              "      <td>-4260.0</td>\n",
              "      <td>-2531</td>\n",
              "      <td>26.0</td>\n",
              "      <td>1</td>\n",
              "      <td>1</td>\n",
              "      <td>1</td>\n",
              "      <td>1</td>\n",
              "      <td>1</td>\n",
              "      <td>0</td>\n",
              "      <td>Laborers</td>\n",
              "      <td>1.0</td>\n",
              "      <td>2</td>\n",
              "      <td>2</td>\n",
              "      <td>MONDAY</td>\n",
              "      <td>9</td>\n",
              "      <td>0</td>\n",
              "      <td>0</td>\n",
              "      <td>0</td>\n",
              "      <td>0</td>\n",
              "      <td>0</td>\n",
              "      <td>0</td>\n",
              "      <td>Government</td>\n",
              "      <td>NaN</td>\n",
              "      <td>0.555912</td>\n",
              "      <td>0.729567</td>\n",
              "      <td>NaN</td>\n",
              "      <td>NaN</td>\n",
              "      <td>NaN</td>\n",
              "      <td>NaN</td>\n",
              "      <td>NaN</td>\n",
              "      <td>NaN</td>\n",
              "      <td>NaN</td>\n",
              "      <td>NaN</td>\n",
              "      <td>NaN</td>\n",
              "      <td>NaN</td>\n",
              "      <td>NaN</td>\n",
              "      <td>NaN</td>\n",
              "      <td>NaN</td>\n",
              "      <td>NaN</td>\n",
              "      <td>NaN</td>\n",
              "      <td>NaN</td>\n",
              "      <td>NaN</td>\n",
              "      <td>NaN</td>\n",
              "      <td>NaN</td>\n",
              "      <td>NaN</td>\n",
              "      <td>NaN</td>\n",
              "      <td>NaN</td>\n",
              "      <td>NaN</td>\n",
              "      <td>NaN</td>\n",
              "      <td>NaN</td>\n",
              "      <td>NaN</td>\n",
              "      <td>NaN</td>\n",
              "      <td>NaN</td>\n",
              "      <td>NaN</td>\n",
              "      <td>NaN</td>\n",
              "      <td>NaN</td>\n",
              "      <td>NaN</td>\n",
              "      <td>NaN</td>\n",
              "      <td>NaN</td>\n",
              "      <td>NaN</td>\n",
              "      <td>NaN</td>\n",
              "      <td>NaN</td>\n",
              "      <td>NaN</td>\n",
              "      <td>NaN</td>\n",
              "      <td>NaN</td>\n",
              "      <td>NaN</td>\n",
              "      <td>NaN</td>\n",
              "      <td>NaN</td>\n",
              "      <td>NaN</td>\n",
              "      <td>NaN</td>\n",
              "      <td>NaN</td>\n",
              "      <td>NaN</td>\n",
              "      <td>0.0</td>\n",
              "      <td>0.0</td>\n",
              "      <td>0.0</td>\n",
              "      <td>0.0</td>\n",
              "      <td>-815.0</td>\n",
              "      <td>0</td>\n",
              "      <td>0</td>\n",
              "      <td>0</td>\n",
              "      <td>0</td>\n",
              "      <td>0</td>\n",
              "      <td>0</td>\n",
              "      <td>0</td>\n",
              "      <td>0</td>\n",
              "      <td>0</td>\n",
              "      <td>0</td>\n",
              "      <td>0</td>\n",
              "      <td>0</td>\n",
              "      <td>0</td>\n",
              "      <td>0</td>\n",
              "      <td>0</td>\n",
              "      <td>0</td>\n",
              "      <td>0</td>\n",
              "      <td>0</td>\n",
              "      <td>0</td>\n",
              "      <td>0</td>\n",
              "      <td>0.0</td>\n",
              "      <td>0.0</td>\n",
              "      <td>0.0</td>\n",
              "      <td>0.0</td>\n",
              "      <td>0.0</td>\n",
              "      <td>0.0</td>\n",
              "    </tr>\n",
              "    <tr>\n",
              "      <th>3</th>\n",
              "      <td>100006</td>\n",
              "      <td>0</td>\n",
              "      <td>Cash loans</td>\n",
              "      <td>F</td>\n",
              "      <td>N</td>\n",
              "      <td>Y</td>\n",
              "      <td>0</td>\n",
              "      <td>135000.0</td>\n",
              "      <td>312682.5</td>\n",
              "      <td>29686.5</td>\n",
              "      <td>297000.0</td>\n",
              "      <td>Unaccompanied</td>\n",
              "      <td>Working</td>\n",
              "      <td>Secondary / secondary special</td>\n",
              "      <td>Civil marriage</td>\n",
              "      <td>House / apartment</td>\n",
              "      <td>0.008019</td>\n",
              "      <td>-19005</td>\n",
              "      <td>-3039</td>\n",
              "      <td>-9833.0</td>\n",
              "      <td>-2437</td>\n",
              "      <td>NaN</td>\n",
              "      <td>1</td>\n",
              "      <td>1</td>\n",
              "      <td>0</td>\n",
              "      <td>1</td>\n",
              "      <td>0</td>\n",
              "      <td>0</td>\n",
              "      <td>Laborers</td>\n",
              "      <td>2.0</td>\n",
              "      <td>2</td>\n",
              "      <td>2</td>\n",
              "      <td>WEDNESDAY</td>\n",
              "      <td>17</td>\n",
              "      <td>0</td>\n",
              "      <td>0</td>\n",
              "      <td>0</td>\n",
              "      <td>0</td>\n",
              "      <td>0</td>\n",
              "      <td>0</td>\n",
              "      <td>Business Entity Type 3</td>\n",
              "      <td>NaN</td>\n",
              "      <td>0.650442</td>\n",
              "      <td>NaN</td>\n",
              "      <td>NaN</td>\n",
              "      <td>NaN</td>\n",
              "      <td>NaN</td>\n",
              "      <td>NaN</td>\n",
              "      <td>NaN</td>\n",
              "      <td>NaN</td>\n",
              "      <td>NaN</td>\n",
              "      <td>NaN</td>\n",
              "      <td>NaN</td>\n",
              "      <td>NaN</td>\n",
              "      <td>NaN</td>\n",
              "      <td>NaN</td>\n",
              "      <td>NaN</td>\n",
              "      <td>NaN</td>\n",
              "      <td>NaN</td>\n",
              "      <td>NaN</td>\n",
              "      <td>NaN</td>\n",
              "      <td>NaN</td>\n",
              "      <td>NaN</td>\n",
              "      <td>NaN</td>\n",
              "      <td>NaN</td>\n",
              "      <td>NaN</td>\n",
              "      <td>NaN</td>\n",
              "      <td>NaN</td>\n",
              "      <td>NaN</td>\n",
              "      <td>NaN</td>\n",
              "      <td>NaN</td>\n",
              "      <td>NaN</td>\n",
              "      <td>NaN</td>\n",
              "      <td>NaN</td>\n",
              "      <td>NaN</td>\n",
              "      <td>NaN</td>\n",
              "      <td>NaN</td>\n",
              "      <td>NaN</td>\n",
              "      <td>NaN</td>\n",
              "      <td>NaN</td>\n",
              "      <td>NaN</td>\n",
              "      <td>NaN</td>\n",
              "      <td>NaN</td>\n",
              "      <td>NaN</td>\n",
              "      <td>NaN</td>\n",
              "      <td>NaN</td>\n",
              "      <td>NaN</td>\n",
              "      <td>NaN</td>\n",
              "      <td>NaN</td>\n",
              "      <td>NaN</td>\n",
              "      <td>NaN</td>\n",
              "      <td>2.0</td>\n",
              "      <td>0.0</td>\n",
              "      <td>2.0</td>\n",
              "      <td>0.0</td>\n",
              "      <td>-617.0</td>\n",
              "      <td>0</td>\n",
              "      <td>1</td>\n",
              "      <td>0</td>\n",
              "      <td>0</td>\n",
              "      <td>0</td>\n",
              "      <td>0</td>\n",
              "      <td>0</td>\n",
              "      <td>0</td>\n",
              "      <td>0</td>\n",
              "      <td>0</td>\n",
              "      <td>0</td>\n",
              "      <td>0</td>\n",
              "      <td>0</td>\n",
              "      <td>0</td>\n",
              "      <td>0</td>\n",
              "      <td>0</td>\n",
              "      <td>0</td>\n",
              "      <td>0</td>\n",
              "      <td>0</td>\n",
              "      <td>0</td>\n",
              "      <td>NaN</td>\n",
              "      <td>NaN</td>\n",
              "      <td>NaN</td>\n",
              "      <td>NaN</td>\n",
              "      <td>NaN</td>\n",
              "      <td>NaN</td>\n",
              "    </tr>\n",
              "    <tr>\n",
              "      <th>4</th>\n",
              "      <td>100007</td>\n",
              "      <td>0</td>\n",
              "      <td>Cash loans</td>\n",
              "      <td>M</td>\n",
              "      <td>N</td>\n",
              "      <td>Y</td>\n",
              "      <td>0</td>\n",
              "      <td>121500.0</td>\n",
              "      <td>513000.0</td>\n",
              "      <td>21865.5</td>\n",
              "      <td>513000.0</td>\n",
              "      <td>Unaccompanied</td>\n",
              "      <td>Working</td>\n",
              "      <td>Secondary / secondary special</td>\n",
              "      <td>Single / not married</td>\n",
              "      <td>House / apartment</td>\n",
              "      <td>0.028663</td>\n",
              "      <td>-19932</td>\n",
              "      <td>-3038</td>\n",
              "      <td>-4311.0</td>\n",
              "      <td>-3458</td>\n",
              "      <td>NaN</td>\n",
              "      <td>1</td>\n",
              "      <td>1</td>\n",
              "      <td>0</td>\n",
              "      <td>1</td>\n",
              "      <td>0</td>\n",
              "      <td>0</td>\n",
              "      <td>Core staff</td>\n",
              "      <td>1.0</td>\n",
              "      <td>2</td>\n",
              "      <td>2</td>\n",
              "      <td>THURSDAY</td>\n",
              "      <td>11</td>\n",
              "      <td>0</td>\n",
              "      <td>0</td>\n",
              "      <td>0</td>\n",
              "      <td>0</td>\n",
              "      <td>1</td>\n",
              "      <td>1</td>\n",
              "      <td>Religion</td>\n",
              "      <td>NaN</td>\n",
              "      <td>0.322738</td>\n",
              "      <td>NaN</td>\n",
              "      <td>NaN</td>\n",
              "      <td>NaN</td>\n",
              "      <td>NaN</td>\n",
              "      <td>NaN</td>\n",
              "      <td>NaN</td>\n",
              "      <td>NaN</td>\n",
              "      <td>NaN</td>\n",
              "      <td>NaN</td>\n",
              "      <td>NaN</td>\n",
              "      <td>NaN</td>\n",
              "      <td>NaN</td>\n",
              "      <td>NaN</td>\n",
              "      <td>NaN</td>\n",
              "      <td>NaN</td>\n",
              "      <td>NaN</td>\n",
              "      <td>NaN</td>\n",
              "      <td>NaN</td>\n",
              "      <td>NaN</td>\n",
              "      <td>NaN</td>\n",
              "      <td>NaN</td>\n",
              "      <td>NaN</td>\n",
              "      <td>NaN</td>\n",
              "      <td>NaN</td>\n",
              "      <td>NaN</td>\n",
              "      <td>NaN</td>\n",
              "      <td>NaN</td>\n",
              "      <td>NaN</td>\n",
              "      <td>NaN</td>\n",
              "      <td>NaN</td>\n",
              "      <td>NaN</td>\n",
              "      <td>NaN</td>\n",
              "      <td>NaN</td>\n",
              "      <td>NaN</td>\n",
              "      <td>NaN</td>\n",
              "      <td>NaN</td>\n",
              "      <td>NaN</td>\n",
              "      <td>NaN</td>\n",
              "      <td>NaN</td>\n",
              "      <td>NaN</td>\n",
              "      <td>NaN</td>\n",
              "      <td>NaN</td>\n",
              "      <td>NaN</td>\n",
              "      <td>NaN</td>\n",
              "      <td>NaN</td>\n",
              "      <td>NaN</td>\n",
              "      <td>NaN</td>\n",
              "      <td>NaN</td>\n",
              "      <td>0.0</td>\n",
              "      <td>0.0</td>\n",
              "      <td>0.0</td>\n",
              "      <td>0.0</td>\n",
              "      <td>-1106.0</td>\n",
              "      <td>0</td>\n",
              "      <td>0</td>\n",
              "      <td>0</td>\n",
              "      <td>0</td>\n",
              "      <td>0</td>\n",
              "      <td>0</td>\n",
              "      <td>1</td>\n",
              "      <td>0</td>\n",
              "      <td>0</td>\n",
              "      <td>0</td>\n",
              "      <td>0</td>\n",
              "      <td>0</td>\n",
              "      <td>0</td>\n",
              "      <td>0</td>\n",
              "      <td>0</td>\n",
              "      <td>0</td>\n",
              "      <td>0</td>\n",
              "      <td>0</td>\n",
              "      <td>0</td>\n",
              "      <td>0</td>\n",
              "      <td>0.0</td>\n",
              "      <td>0.0</td>\n",
              "      <td>0.0</td>\n",
              "      <td>0.0</td>\n",
              "      <td>0.0</td>\n",
              "      <td>0.0</td>\n",
              "    </tr>\n",
              "  </tbody>\n",
              "</table>\n",
              "</div>\n",
              "      <button class=\"colab-df-convert\" onclick=\"convertToInteractive('df-76b7cecf-3781-4457-af5c-40f7d9a4a9d1')\"\n",
              "              title=\"Convert this dataframe to an interactive table.\"\n",
              "              style=\"display:none;\">\n",
              "        \n",
              "  <svg xmlns=\"http://www.w3.org/2000/svg\" height=\"24px\"viewBox=\"0 0 24 24\"\n",
              "       width=\"24px\">\n",
              "    <path d=\"M0 0h24v24H0V0z\" fill=\"none\"/>\n",
              "    <path d=\"M18.56 5.44l.94 2.06.94-2.06 2.06-.94-2.06-.94-.94-2.06-.94 2.06-2.06.94zm-11 1L8.5 8.5l.94-2.06 2.06-.94-2.06-.94L8.5 2.5l-.94 2.06-2.06.94zm10 10l.94 2.06.94-2.06 2.06-.94-2.06-.94-.94-2.06-.94 2.06-2.06.94z\"/><path d=\"M17.41 7.96l-1.37-1.37c-.4-.4-.92-.59-1.43-.59-.52 0-1.04.2-1.43.59L10.3 9.45l-7.72 7.72c-.78.78-.78 2.05 0 2.83L4 21.41c.39.39.9.59 1.41.59.51 0 1.02-.2 1.41-.59l7.78-7.78 2.81-2.81c.8-.78.8-2.07 0-2.86zM5.41 20L4 18.59l7.72-7.72 1.47 1.35L5.41 20z\"/>\n",
              "  </svg>\n",
              "      </button>\n",
              "      \n",
              "  <style>\n",
              "    .colab-df-container {\n",
              "      display:flex;\n",
              "      flex-wrap:wrap;\n",
              "      gap: 12px;\n",
              "    }\n",
              "\n",
              "    .colab-df-convert {\n",
              "      background-color: #E8F0FE;\n",
              "      border: none;\n",
              "      border-radius: 50%;\n",
              "      cursor: pointer;\n",
              "      display: none;\n",
              "      fill: #1967D2;\n",
              "      height: 32px;\n",
              "      padding: 0 0 0 0;\n",
              "      width: 32px;\n",
              "    }\n",
              "\n",
              "    .colab-df-convert:hover {\n",
              "      background-color: #E2EBFA;\n",
              "      box-shadow: 0px 1px 2px rgba(60, 64, 67, 0.3), 0px 1px 3px 1px rgba(60, 64, 67, 0.15);\n",
              "      fill: #174EA6;\n",
              "    }\n",
              "\n",
              "    [theme=dark] .colab-df-convert {\n",
              "      background-color: #3B4455;\n",
              "      fill: #D2E3FC;\n",
              "    }\n",
              "\n",
              "    [theme=dark] .colab-df-convert:hover {\n",
              "      background-color: #434B5C;\n",
              "      box-shadow: 0px 1px 3px 1px rgba(0, 0, 0, 0.15);\n",
              "      filter: drop-shadow(0px 1px 2px rgba(0, 0, 0, 0.3));\n",
              "      fill: #FFFFFF;\n",
              "    }\n",
              "  </style>\n",
              "\n",
              "      <script>\n",
              "        const buttonEl =\n",
              "          document.querySelector('#df-76b7cecf-3781-4457-af5c-40f7d9a4a9d1 button.colab-df-convert');\n",
              "        buttonEl.style.display =\n",
              "          google.colab.kernel.accessAllowed ? 'block' : 'none';\n",
              "\n",
              "        async function convertToInteractive(key) {\n",
              "          const element = document.querySelector('#df-76b7cecf-3781-4457-af5c-40f7d9a4a9d1');\n",
              "          const dataTable =\n",
              "            await google.colab.kernel.invokeFunction('convertToInteractive',\n",
              "                                                     [key], {});\n",
              "          if (!dataTable) return;\n",
              "\n",
              "          const docLinkHtml = 'Like what you see? Visit the ' +\n",
              "            '<a target=\"_blank\" href=https://colab.research.google.com/notebooks/data_table.ipynb>data table notebook</a>'\n",
              "            + ' to learn more about interactive tables.';\n",
              "          element.innerHTML = '';\n",
              "          dataTable['output_type'] = 'display_data';\n",
              "          await google.colab.output.renderOutput(dataTable, element);\n",
              "          const docLink = document.createElement('div');\n",
              "          docLink.innerHTML = docLinkHtml;\n",
              "          element.appendChild(docLink);\n",
              "        }\n",
              "      </script>\n",
              "    </div>\n",
              "  </div>\n",
              "  "
            ]
          },
          "metadata": {},
          "execution_count": 7
        }
      ]
    },
    {
      "cell_type": "code",
      "source": [
        "dataraw_train.isna().sum()"
      ],
      "metadata": {
        "colab": {
          "base_uri": "https://localhost:8080/"
        },
        "id": "o3bSpkDBKaTe",
        "outputId": "0fc68d1c-dca1-4342-9541-8b3af9a12484"
      },
      "execution_count": null,
      "outputs": [
        {
          "output_type": "execute_result",
          "data": {
            "text/plain": [
              "SK_ID_CURR                        0\n",
              "TARGET                            0\n",
              "NAME_CONTRACT_TYPE                0\n",
              "CODE_GENDER                       0\n",
              "FLAG_OWN_CAR                      0\n",
              "                              ...  \n",
              "AMT_REQ_CREDIT_BUREAU_DAY     41519\n",
              "AMT_REQ_CREDIT_BUREAU_WEEK    41519\n",
              "AMT_REQ_CREDIT_BUREAU_MON     41519\n",
              "AMT_REQ_CREDIT_BUREAU_QRT     41519\n",
              "AMT_REQ_CREDIT_BUREAU_YEAR    41519\n",
              "Length: 122, dtype: int64"
            ]
          },
          "metadata": {},
          "execution_count": 8
        }
      ]
    },
    {
      "cell_type": "code",
      "source": [
        "dataraw_train.shape"
      ],
      "metadata": {
        "colab": {
          "base_uri": "https://localhost:8080/"
        },
        "id": "4ZTR4lbkKuav",
        "outputId": "4b2bc6ec-ac0e-4827-d13b-8ba095b5a8be"
      },
      "execution_count": null,
      "outputs": [
        {
          "output_type": "execute_result",
          "data": {
            "text/plain": [
              "(307511, 122)"
            ]
          },
          "metadata": {},
          "execution_count": 9
        }
      ]
    },
    {
      "cell_type": "code",
      "source": [
        "dataraw['COMMONAREA_AVG'].isna().sum()"
      ],
      "metadata": {
        "colab": {
          "base_uri": "https://localhost:8080/"
        },
        "id": "e36No31haa7C",
        "outputId": "4d4d3f8e-cb57-4945-fcb1-b337c19bd381"
      },
      "execution_count": null,
      "outputs": [
        {
          "output_type": "execute_result",
          "data": {
            "text/plain": [
              "248360"
            ]
          },
          "metadata": {},
          "execution_count": 10
        }
      ]
    },
    {
      "cell_type": "markdown",
      "source": [
        "Pembuangan fitur-fitur yang tidak berguna dilakukan yaitu fitur yang memiliki nilai kosong (NaN) >75% total jumlah data"
      ],
      "metadata": {
        "id": "Yg8FFZkyIwfF"
      }
    },
    {
      "cell_type": "code",
      "source": [
        "cols_to_drop = [\n",
        "    #null\n",
        "    'OWN_CAR_AGE'\n",
        "    ,'EXT_SOURCE_1'\n",
        "    ,'APARTMENTS_AVG'\n",
        "    ,'BASEMENTAREA_AVG'\n",
        "    ,'YEARS_BEGINEXPLUATATION_AVG'\n",
        "    ,'YEARS_BUILD_AVG'\n",
        "    ,'COMMONAREA_AVG'\n",
        "    ,'ELEVATORS_AVG'\n",
        "    ,'ENTRANCES_AVG'\n",
        "    ,'FLOORSMAX_AVG'\n",
        "    ,'FLOORSMIN_AVG'\n",
        "    ,'LANDAREA_AVG'\n",
        "    ,'LIVINGAPARTMENTS_AVG'\n",
        "    ,'LIVINGAREA_AVG'\n",
        "    ,'NONLIVINGAPARTMENTS_AVG'\n",
        "    ,'NONLIVINGAREA_AVG'\n",
        "    ,'APARTMENTS_MODE'\n",
        "    ,'BASEMENTAREA_MODE'\n",
        "    ,'YEARS_BEGINEXPLUATATION_MODE'\n",
        "    ,'YEARS_BUILD_MODE'\n",
        "    ,'COMMONAREA_MODE'\n",
        "    ,'ELEVATORS_MODE'\n",
        "    ,'ENTRANCES_MODE'\n",
        "    ,'FLOORSMAX_MODE'\n",
        "    ,'FLOORSMIN_MODE'\n",
        "    ,'LANDAREA_MODE'\n",
        "    ,'LIVINGAPARTMENTS_MODE'\n",
        "    ,'LIVINGAREA_MODE'\n",
        "    ,'NONLIVINGAPARTMENTS_MODE'\n",
        "    ,'NONLIVINGAREA_MODE'\n",
        "    ,'APARTMENTS_MEDI'\n",
        "    ,'BASEMENTAREA_MEDI'\n",
        "    ,'YEARS_BEGINEXPLUATATION_MEDI'\n",
        "    ,'YEARS_BUILD_MEDI'\n",
        "    ,'COMMONAREA_MEDI'\n",
        "    ,'ELEVATORS_MEDI'\n",
        "    ,'ENTRANCES_MEDI'\n",
        "    ,'FLOORSMAX_MEDI'\n",
        "    ,'FLOORSMIN_MEDI'\n",
        "    ,'LANDAREA_MEDI'\n",
        "    ,'LIVINGAPARTMENTS_MEDI'\n",
        "    ,'LIVINGAREA_MEDI'\n",
        "    ,'NONLIVINGAPARTMENTS_MEDI'\n",
        "    ,'NONLIVINGAREA_MEDI'\n",
        "    ,'FONDKAPREMONT_MODE'\n",
        "    ,'HOUSETYPE_MODE'\n",
        "    ,'TOTALAREA_MODE'\n",
        "    ,'WALLSMATERIAL_MODE'\n",
        "    ,'EMERGENCYSTATE_MODE'\n",
        "]"
      ],
      "metadata": {
        "id": "9gTPJLZu_SCr"
      },
      "execution_count": null,
      "outputs": []
    },
    {
      "cell_type": "code",
      "source": [
        "data_train = dataraw_train.drop(cols_to_drop, axis =1)\n",
        "data_test = dataraw_test.drop(cols_to_drop, axis =1)"
      ],
      "metadata": {
        "id": "C4qxJJsEBohG"
      },
      "execution_count": null,
      "outputs": []
    },
    {
      "cell_type": "code",
      "source": [
        "data_test.shape"
      ],
      "metadata": {
        "colab": {
          "base_uri": "https://localhost:8080/"
        },
        "id": "KKUANelFLli5",
        "outputId": "b5a5e3cc-d011-40d7-aa5d-e67d31c51987"
      },
      "execution_count": null,
      "outputs": [
        {
          "output_type": "execute_result",
          "data": {
            "text/plain": [
              "(48744, 72)"
            ]
          },
          "metadata": {},
          "execution_count": 13
        }
      ]
    },
    {
      "cell_type": "markdown",
      "source": [
        "# Data visualization"
      ],
      "metadata": {
        "id": "AB6u8iPGJOHO"
      }
    },
    {
      "cell_type": "code",
      "source": [
        "data_train['NAME_EDUCATION_TYPE'].unique()"
      ],
      "metadata": {
        "colab": {
          "base_uri": "https://localhost:8080/"
        },
        "id": "YzFqRIFoO6LH",
        "outputId": "58760410-d9c8-425f-9812-75277bcf91d6"
      },
      "execution_count": null,
      "outputs": [
        {
          "output_type": "execute_result",
          "data": {
            "text/plain": [
              "array(['Secondary / secondary special', 'Higher education',\n",
              "       'Incomplete higher', 'Lower secondary', 'Academic degree'],\n",
              "      dtype=object)"
            ]
          },
          "metadata": {},
          "execution_count": 57
        }
      ]
    },
    {
      "cell_type": "code",
      "source": [
        "\n",
        "import matplotlib.pyplot as plt\n",
        "import numpy as np\n",
        "\n",
        "\n",
        "x = ['Secondary special', 'Higher education', 'Incomplete higher', 'Lower secondary', 'Academic degree']\n",
        "target_0 = [198867, 70854, 9405, 3399, 161]\n",
        "target_1 = [19524, 4009, 872, 417, 3]\n",
        "width = 0.35  # the width of the bars\n",
        "\n",
        "fig, ax = plt.subplots()\n",
        "bar1 = np.arange(len(x))\n",
        "bar2 = [i+width for i in bar1]\n",
        "\n",
        "plt.bar(bar1, target_0, width, label='Target_0')\n",
        "plt.bar(bar2, target_1, width, label='Target_1')\n",
        "\n",
        "# Add some text for labels, title and custom x-axis tick labels, etc.\n",
        "plt.ylabel('Nasabah')\n",
        "plt.xlabel('Education Type')\n",
        "plt.title('Distribusi Pendidikan Nasabah')\n",
        "plt.xticks(bar1+width/2, x, rotation=90)\n",
        "plt.legend()\n",
        "plt.ylim(ymin=0)\n",
        "\n",
        "fig.tight_layout()\n",
        "\n",
        "plt.show()"
      ],
      "metadata": {
        "colab": {
          "base_uri": "https://localhost:8080/",
          "height": 230
        },
        "id": "BrgY1angpkU3",
        "outputId": "9b2ff0e9-03a0-4312-f3d8-3454f320d37c"
      },
      "execution_count": null,
      "outputs": [
        {
          "output_type": "display_data",
          "data": {
            "text/plain": [
              "<Figure size 432x288 with 1 Axes>"
            ],
            "image/png": "[encoded data removed]"
          },
          "metadata": {
            "needs_background": "light"
          }
        }
      ]
    },
    {
      "cell_type": "code",
      "source": [
        "data_train['NAME_INCOME_TYPE'].unique()"
      ],
      "metadata": {
        "colab": {
          "base_uri": "https://localhost:8080/"
        },
        "id": "az1tG-cw9e0G",
        "outputId": "a3963d8c-b812-45fd-8c68-d1cc3ffe07a8"
      },
      "execution_count": null,
      "outputs": [
        {
          "output_type": "execute_result",
          "data": {
            "text/plain": [
              "array(['Working', 'State servant', 'Commercial associate', 'Pensioner',\n",
              "       'Unemployed', 'Student', 'Businessman', 'Maternity leave'],\n",
              "      dtype=object)"
            ]
          },
          "metadata": {},
          "execution_count": 63
        }
      ]
    },
    {
      "cell_type": "code",
      "source": [
        "\n",
        "import matplotlib.pyplot as plt\n",
        "import numpy as np\n",
        "\n",
        "\n",
        "x = ['Working', 'State servant', 'Commercial associate', 'Pensioner', 'Unemployed', 'Student', 'Businessman', 'Maternity leave']\n",
        "target_0 = [143550, 20454, 66257, 52380, 14, 18, 10, 3]\n",
        "target_1 = [15224, 1249, 5360, 2982, 8, 0, 0, 2]\n",
        "width = 0.35  # the width of the bars\n",
        "\n",
        "fig, ax = plt.subplots()\n",
        "bar1 = np.arange(len(x))\n",
        "bar2 = [i+width for i in bar1]\n",
        "\n",
        "plt.bar(bar1, target_0, width, label='Target_0')\n",
        "plt.bar(bar2, target_1, width, label='Target_1')\n",
        "\n",
        "# Add some text for labels, title and custom x-axis tick labels, etc.\n",
        "plt.ylabel('Nasabah')\n",
        "plt.xlabel('Income Type')\n",
        "plt.title('Distribusi Pekerjaan Nasabah')\n",
        "plt.xticks(bar1+width/2, x, rotation=90)\n",
        "plt.legend()\n",
        "plt.ylim(ymin=0)\n",
        "\n",
        "fig.tight_layout()\n",
        "\n",
        "plt.show()"
      ],
      "metadata": {
        "colab": {
          "base_uri": "https://localhost:8080/",
          "height": 230
        },
        "id": "saL17DgH96DP",
        "outputId": "daa7d6e0-17c8-4108-aa1b-b5b46d76398e"
      },
      "execution_count": null,
      "outputs": [
        {
          "output_type": "display_data",
          "data": {
            "text/plain": [
              "<Figure size 432x288 with 1 Axes>"
            ],
            "image/png": "[encoded data removed]"
          },
          "metadata": {
            "needs_background": "light"
          }
        }
      ]
    },
    {
      "cell_type": "markdown",
      "source": [
        "# Data Cleaning, preprocessing"
      ],
      "metadata": {
        "id": "YFyLBHoLJdaz"
      }
    },
    {
      "cell_type": "code",
      "source": [
        "data_train.isna().sum()"
      ],
      "metadata": {
        "colab": {
          "base_uri": "https://localhost:8080/"
        },
        "id": "l1p8gXstDVDE",
        "outputId": "9073132c-b6c8-4ac6-9383-63bea52140b4"
      },
      "execution_count": null,
      "outputs": [
        {
          "output_type": "execute_result",
          "data": {
            "text/plain": [
              "SK_ID_CURR                         0\n",
              "TARGET                             0\n",
              "NAME_CONTRACT_TYPE                 0\n",
              "CODE_GENDER                        0\n",
              "FLAG_OWN_CAR                       0\n",
              "FLAG_OWN_REALTY                    0\n",
              "CNT_CHILDREN                       0\n",
              "AMT_INCOME_TOTAL                   0\n",
              "AMT_CREDIT                         0\n",
              "AMT_ANNUITY                       12\n",
              "AMT_GOODS_PRICE                  278\n",
              "NAME_TYPE_SUITE                 1292\n",
              "NAME_INCOME_TYPE                   0\n",
              "NAME_EDUCATION_TYPE                0\n",
              "NAME_FAMILY_STATUS                 0\n",
              "NAME_HOUSING_TYPE                  0\n",
              "REGION_POPULATION_RELATIVE         0\n",
              "DAYS_BIRTH                         0\n",
              "DAYS_EMPLOYED                      0\n",
              "DAYS_REGISTRATION                  0\n",
              "DAYS_ID_PUBLISH                    0\n",
              "FLAG_MOBIL                         0\n",
              "FLAG_EMP_PHONE                     0\n",
              "FLAG_WORK_PHONE                    0\n",
              "FLAG_CONT_MOBILE                   0\n",
              "FLAG_PHONE                         0\n",
              "FLAG_EMAIL                         0\n",
              "OCCUPATION_TYPE                96391\n",
              "CNT_FAM_MEMBERS                    2\n",
              "REGION_RATING_CLIENT               0\n",
              "REGION_RATING_CLIENT_W_CITY        0\n",
              "WEEKDAY_APPR_PROCESS_START         0\n",
              "HOUR_APPR_PROCESS_START            0\n",
              "REG_REGION_NOT_LIVE_REGION         0\n",
              "REG_REGION_NOT_WORK_REGION         0\n",
              "LIVE_REGION_NOT_WORK_REGION        0\n",
              "REG_CITY_NOT_LIVE_CITY             0\n",
              "REG_CITY_NOT_WORK_CITY             0\n",
              "LIVE_CITY_NOT_WORK_CITY            0\n",
              "ORGANIZATION_TYPE                  0\n",
              "EXT_SOURCE_2                     660\n",
              "EXT_SOURCE_3                   60965\n",
              "OBS_30_CNT_SOCIAL_CIRCLE        1021\n",
              "DEF_30_CNT_SOCIAL_CIRCLE        1021\n",
              "OBS_60_CNT_SOCIAL_CIRCLE        1021\n",
              "DEF_60_CNT_SOCIAL_CIRCLE        1021\n",
              "DAYS_LAST_PHONE_CHANGE             1\n",
              "FLAG_DOCUMENT_2                    0\n",
              "FLAG_DOCUMENT_3                    0\n",
              "FLAG_DOCUMENT_4                    0\n",
              "FLAG_DOCUMENT_5                    0\n",
              "FLAG_DOCUMENT_6                    0\n",
              "FLAG_DOCUMENT_7                    0\n",
              "FLAG_DOCUMENT_8                    0\n",
              "FLAG_DOCUMENT_9                    0\n",
              "FLAG_DOCUMENT_10                   0\n",
              "FLAG_DOCUMENT_11                   0\n",
              "FLAG_DOCUMENT_12                   0\n",
              "FLAG_DOCUMENT_13                   0\n",
              "FLAG_DOCUMENT_14                   0\n",
              "FLAG_DOCUMENT_15                   0\n",
              "FLAG_DOCUMENT_16                   0\n",
              "FLAG_DOCUMENT_17                   0\n",
              "FLAG_DOCUMENT_18                   0\n",
              "FLAG_DOCUMENT_19                   0\n",
              "FLAG_DOCUMENT_20                   0\n",
              "FLAG_DOCUMENT_21                   0\n",
              "AMT_REQ_CREDIT_BUREAU_HOUR     41519\n",
              "AMT_REQ_CREDIT_BUREAU_DAY      41519\n",
              "AMT_REQ_CREDIT_BUREAU_WEEK     41519\n",
              "AMT_REQ_CREDIT_BUREAU_MON      41519\n",
              "AMT_REQ_CREDIT_BUREAU_QRT      41519\n",
              "AMT_REQ_CREDIT_BUREAU_YEAR     41519\n",
              "dtype: int64"
            ]
          },
          "metadata": {},
          "execution_count": 37
        }
      ]
    },
    {
      "cell_type": "code",
      "source": [
        "data_train = data_train.dropna()\n",
        "data_test = data_test.dropna()"
      ],
      "metadata": {
        "id": "98NmxdXWDfWC"
      },
      "execution_count": null,
      "outputs": []
    },
    {
      "cell_type": "code",
      "source": [
        "data_train.sample(5)"
      ],
      "metadata": {
        "colab": {
          "base_uri": "https://localhost:8080/",
          "height": 322
        },
        "id": "Nzfxe-L9N5PI",
        "outputId": "c47dd66e-02d1-4412-c17d-3681d3da716f"
      },
      "execution_count": null,
      "outputs": [
        {
          "output_type": "execute_result",
          "data": {
            "text/plain": [
              "        SK_ID_CURR  TARGET NAME_CONTRACT_TYPE CODE_GENDER FLAG_OWN_CAR  \\\n",
              "136831      258706       0         Cash loans           M            N   \n",
              "165917      292345       0         Cash loans           F            N   \n",
              "202316      334533       0         Cash loans           F            Y   \n",
              "41756       148347       0         Cash loans           M            N   \n",
              "139412      261642       0         Cash loans           F            N   \n",
              "\n",
              "       FLAG_OWN_REALTY  CNT_CHILDREN  AMT_INCOME_TOTAL  AMT_CREDIT  \\\n",
              "136831               N             1          157500.0    675000.0   \n",
              "165917               N             0          225000.0    900000.0   \n",
              "202316               Y             1          180000.0    270000.0   \n",
              "41756                Y             0          202500.0    324216.0   \n",
              "139412               Y             2          112500.0    414792.0   \n",
              "\n",
              "        AMT_ANNUITY  AMT_GOODS_PRICE NAME_TYPE_SUITE NAME_INCOME_TYPE  \\\n",
              "136831      21906.0         675000.0   Unaccompanied          Working   \n",
              "165917      40671.0         900000.0   Unaccompanied    State servant   \n",
              "202316       7249.5         270000.0   Unaccompanied          Working   \n",
              "41756       21793.5         256500.0   Unaccompanied          Working   \n",
              "139412      19350.0         315000.0   Unaccompanied          Working   \n",
              "\n",
              "                  NAME_EDUCATION_TYPE    NAME_FAMILY_STATUS  \\\n",
              "136831                Lower secondary               Married   \n",
              "165917              Incomplete higher  Single / not married   \n",
              "202316  Secondary / secondary special             Separated   \n",
              "41756   Secondary / secondary special  Single / not married   \n",
              "139412  Secondary / secondary special               Married   \n",
              "\n",
              "        NAME_HOUSING_TYPE  REGION_POPULATION_RELATIVE  DAYS_BIRTH  \\\n",
              "136831  House / apartment                    0.014520      -13248   \n",
              "165917  House / apartment                    0.035792      -11991   \n",
              "202316  House / apartment                    0.026392      -14559   \n",
              "41756   House / apartment                    0.010966       -8308   \n",
              "139412  House / apartment                    0.020713      -12037   \n",
              "\n",
              "        DAYS_EMPLOYED  DAYS_REGISTRATION  DAYS_ID_PUBLISH  FLAG_MOBIL  \\\n",
              "136831          -2338            -2738.0            -3913           1   \n",
              "165917          -5317            -5816.0             -304           1   \n",
              "202316          -4911            -2244.0            -4890           1   \n",
              "41756            -323            -4718.0             -986           1   \n",
              "139412          -1442             -187.0             -759           1   \n",
              "\n",
              "        FLAG_EMP_PHONE  FLAG_WORK_PHONE  FLAG_CONT_MOBILE  FLAG_PHONE  \\\n",
              "136831               1                1                 1           1   \n",
              "165917               1                1                 1           0   \n",
              "202316               1                1                 1           1   \n",
              "41756                1                0                 1           0   \n",
              "139412               1                0                 1           0   \n",
              "\n",
              "        FLAG_EMAIL        OCCUPATION_TYPE  CNT_FAM_MEMBERS  \\\n",
              "136831           0             Core staff              3.0   \n",
              "165917           0  High skill tech staff              1.0   \n",
              "202316           0               Laborers              2.0   \n",
              "41756            1               HR staff              1.0   \n",
              "139412           0   Waiters/barmen staff              4.0   \n",
              "\n",
              "        REGION_RATING_CLIENT  REGION_RATING_CLIENT_W_CITY  \\\n",
              "136831                     2                            2   \n",
              "165917                     2                            2   \n",
              "202316                     2                            2   \n",
              "41756                      2                            2   \n",
              "139412                     3                            3   \n",
              "\n",
              "       WEEKDAY_APPR_PROCESS_START  HOUR_APPR_PROCESS_START  \\\n",
              "136831                    TUESDAY                        6   \n",
              "165917                  WEDNESDAY                        9   \n",
              "202316                    TUESDAY                       11   \n",
              "41756                      MONDAY                       13   \n",
              "139412                    TUESDAY                        9   \n",
              "\n",
              "        REG_REGION_NOT_LIVE_REGION  REG_REGION_NOT_WORK_REGION  \\\n",
              "136831                           0                           0   \n",
              "165917                           0                           0   \n",
              "202316                           0                           0   \n",
              "41756                            0                           0   \n",
              "139412                           0                           0   \n",
              "\n",
              "        LIVE_REGION_NOT_WORK_REGION  REG_CITY_NOT_LIVE_CITY  \\\n",
              "136831                            0                       0   \n",
              "165917                            0                       0   \n",
              "202316                            0                       0   \n",
              "41756                             0                       0   \n",
              "139412                            0                       0   \n",
              "\n",
              "        REG_CITY_NOT_WORK_CITY  LIVE_CITY_NOT_WORK_CITY  \\\n",
              "136831                       1                        1   \n",
              "165917                       0                        0   \n",
              "202316                       0                        0   \n",
              "41756                        0                        0   \n",
              "139412                       0                        0   \n",
              "\n",
              "             ORGANIZATION_TYPE  EXT_SOURCE_2  EXT_SOURCE_3  \\\n",
              "136831             Agriculture      0.345486      0.729567   \n",
              "165917              Government      0.390931      0.251239   \n",
              "202316       Transport: type 4      0.642445      0.397946   \n",
              "41756   Business Entity Type 3      0.377588      0.184116   \n",
              "139412              Restaurant      0.467541      0.340906   \n",
              "\n",
              "        OBS_30_CNT_SOCIAL_CIRCLE  DEF_30_CNT_SOCIAL_CIRCLE  \\\n",
              "136831                      10.0                       0.0   \n",
              "165917                       0.0                       0.0   \n",
              "202316                       1.0                       0.0   \n",
              "41756                        5.0                       0.0   \n",
              "139412                       2.0                       0.0   \n",
              "\n",
              "        OBS_60_CNT_SOCIAL_CIRCLE  DEF_60_CNT_SOCIAL_CIRCLE  \\\n",
              "136831                      10.0                       0.0   \n",
              "165917                       0.0                       0.0   \n",
              "202316                       1.0                       0.0   \n",
              "41756                        5.0                       0.0   \n",
              "139412                       1.0                       0.0   \n",
              "\n",
              "        DAYS_LAST_PHONE_CHANGE  FLAG_DOCUMENT_2  FLAG_DOCUMENT_3  \\\n",
              "136831                 -1092.0                0                1   \n",
              "165917                  -485.0                0                1   \n",
              "202316                 -2268.0                0                1   \n",
              "41756                     -5.0                0                0   \n",
              "139412                  -527.0                0                1   \n",
              "\n",
              "        FLAG_DOCUMENT_4  FLAG_DOCUMENT_5  FLAG_DOCUMENT_6  FLAG_DOCUMENT_7  \\\n",
              "136831                0                0                0                0   \n",
              "165917                0                0                0                0   \n",
              "202316                0                0                0                0   \n",
              "41756                 0                0                0                0   \n",
              "139412                0                0                0                0   \n",
              "\n",
              "        FLAG_DOCUMENT_8  FLAG_DOCUMENT_9  FLAG_DOCUMENT_10  FLAG_DOCUMENT_11  \\\n",
              "136831                0                0                 0                 0   \n",
              "165917                0                0                 0                 0   \n",
              "202316                0                0                 0                 0   \n",
              "41756                 1                0                 0                 0   \n",
              "139412                0                0                 0                 0   \n",
              "\n",
              "        FLAG_DOCUMENT_12  FLAG_DOCUMENT_13  FLAG_DOCUMENT_14  \\\n",
              "136831                 0                 0                 0   \n",
              "165917                 0                 0                 0   \n",
              "202316                 0                 0                 0   \n",
              "41756                  0                 0                 0   \n",
              "139412                 0                 0                 0   \n",
              "\n",
              "        FLAG_DOCUMENT_15  FLAG_DOCUMENT_16  FLAG_DOCUMENT_17  \\\n",
              "136831                 0                 0                 0   \n",
              "165917                 0                 0                 0   \n",
              "202316                 0                 0                 0   \n",
              "41756                  0                 0                 0   \n",
              "139412                 0                 0                 0   \n",
              "\n",
              "        FLAG_DOCUMENT_18  FLAG_DOCUMENT_19  FLAG_DOCUMENT_20  \\\n",
              "136831                 0                 0                 0   \n",
              "165917                 0                 0                 0   \n",
              "202316                 0                 0                 0   \n",
              "41756                  0                 0                 0   \n",
              "139412                 0                 0                 0   \n",
              "\n",
              "        FLAG_DOCUMENT_21  AMT_REQ_CREDIT_BUREAU_HOUR  \\\n",
              "136831                 0                         0.0   \n",
              "165917                 0                         0.0   \n",
              "202316                 0                         0.0   \n",
              "41756                  0                         0.0   \n",
              "139412                 0                         0.0   \n",
              "\n",
              "        AMT_REQ_CREDIT_BUREAU_DAY  AMT_REQ_CREDIT_BUREAU_WEEK  \\\n",
              "136831                        0.0                         0.0   \n",
              "165917                        0.0                         0.0   \n",
              "202316                        0.0                         0.0   \n",
              "41756                         0.0                         0.0   \n",
              "139412                        0.0                         0.0   \n",
              "\n",
              "        AMT_REQ_CREDIT_BUREAU_MON  AMT_REQ_CREDIT_BUREAU_QRT  \\\n",
              "136831                        0.0                        0.0   \n",
              "165917                        2.0                        0.0   \n",
              "202316                        1.0                        0.0   \n",
              "41756                         0.0                        0.0   \n",
              "139412                        0.0                        0.0   \n",
              "\n",
              "        AMT_REQ_CREDIT_BUREAU_YEAR  \n",
              "136831                         2.0  \n",
              "165917                         5.0  \n",
              "202316                         0.0  \n",
              "41756                          1.0  \n",
              "139412                         6.0  "
            ],
            "text/html": [
              "\n",
              "  <div id=\"df-22d2a720-a158-42b7-9632-f33462fea4a0\">\n",
              "    <div class=\"colab-df-container\">\n",
              "      <div>\n",
              "<style scoped>\n",
              "    .dataframe tbody tr th:only-of-type {\n",
              "        vertical-align: middle;\n",
              "    }\n",
              "\n",
              "    .dataframe tbody tr th {\n",
              "        vertical-align: top;\n",
              "    }\n",
              "\n",
              "    .dataframe thead th {\n",
              "        text-align: right;\n",
              "    }\n",
              "</style>\n",
              "<table border=\"1\" class=\"dataframe\">\n",
              "  <thead>\n",
              "    <tr style=\"text-align: right;\">\n",
              "      <th></th>\n",
              "      <th>SK_ID_CURR</th>\n",
              "      <th>TARGET</th>\n",
              "      <th>NAME_CONTRACT_TYPE</th>\n",
              "      <th>CODE_GENDER</th>\n",
              "      <th>FLAG_OWN_CAR</th>\n",
              "      <th>FLAG_OWN_REALTY</th>\n",
              "      <th>CNT_CHILDREN</th>\n",
              "      <th>AMT_INCOME_TOTAL</th>\n",
              "      <th>AMT_CREDIT</th>\n",
              "      <th>AMT_ANNUITY</th>\n",
              "      <th>AMT_GOODS_PRICE</th>\n",
              "      <th>NAME_TYPE_SUITE</th>\n",
              "      <th>NAME_INCOME_TYPE</th>\n",
              "      <th>NAME_EDUCATION_TYPE</th>\n",
              "      <th>NAME_FAMILY_STATUS</th>\n",
              "      <th>NAME_HOUSING_TYPE</th>\n",
              "      <th>REGION_POPULATION_RELATIVE</th>\n",
              "      <th>DAYS_BIRTH</th>\n",
              "      <th>DAYS_EMPLOYED</th>\n",
              "      <th>DAYS_REGISTRATION</th>\n",
              "      <th>DAYS_ID_PUBLISH</th>\n",
              "      <th>FLAG_MOBIL</th>\n",
              "      <th>FLAG_EMP_PHONE</th>\n",
              "      <th>FLAG_WORK_PHONE</th>\n",
              "      <th>FLAG_CONT_MOBILE</th>\n",
              "      <th>FLAG_PHONE</th>\n",
              "      <th>FLAG_EMAIL</th>\n",
              "      <th>OCCUPATION_TYPE</th>\n",
              "      <th>CNT_FAM_MEMBERS</th>\n",
              "      <th>REGION_RATING_CLIENT</th>\n",
              "      <th>REGION_RATING_CLIENT_W_CITY</th>\n",
              "      <th>WEEKDAY_APPR_PROCESS_START</th>\n",
              "      <th>HOUR_APPR_PROCESS_START</th>\n",
              "      <th>REG_REGION_NOT_LIVE_REGION</th>\n",
              "      <th>REG_REGION_NOT_WORK_REGION</th>\n",
              "      <th>LIVE_REGION_NOT_WORK_REGION</th>\n",
              "      <th>REG_CITY_NOT_LIVE_CITY</th>\n",
              "      <th>REG_CITY_NOT_WORK_CITY</th>\n",
              "      <th>LIVE_CITY_NOT_WORK_CITY</th>\n",
              "      <th>ORGANIZATION_TYPE</th>\n",
              "      <th>EXT_SOURCE_2</th>\n",
              "      <th>EXT_SOURCE_3</th>\n",
              "      <th>OBS_30_CNT_SOCIAL_CIRCLE</th>\n",
              "      <th>DEF_30_CNT_SOCIAL_CIRCLE</th>\n",
              "      <th>OBS_60_CNT_SOCIAL_CIRCLE</th>\n",
              "      <th>DEF_60_CNT_SOCIAL_CIRCLE</th>\n",
              "      <th>DAYS_LAST_PHONE_CHANGE</th>\n",
              "      <th>FLAG_DOCUMENT_2</th>\n",
              "      <th>FLAG_DOCUMENT_3</th>\n",
              "      <th>FLAG_DOCUMENT_4</th>\n",
              "      <th>FLAG_DOCUMENT_5</th>\n",
              "      <th>FLAG_DOCUMENT_6</th>\n",
              "      <th>FLAG_DOCUMENT_7</th>\n",
              "      <th>FLAG_DOCUMENT_8</th>\n",
              "      <th>FLAG_DOCUMENT_9</th>\n",
              "      <th>FLAG_DOCUMENT_10</th>\n",
              "      <th>FLAG_DOCUMENT_11</th>\n",
              "      <th>FLAG_DOCUMENT_12</th>\n",
              "      <th>FLAG_DOCUMENT_13</th>\n",
              "      <th>FLAG_DOCUMENT_14</th>\n",
              "      <th>FLAG_DOCUMENT_15</th>\n",
              "      <th>FLAG_DOCUMENT_16</th>\n",
              "      <th>FLAG_DOCUMENT_17</th>\n",
              "      <th>FLAG_DOCUMENT_18</th>\n",
              "      <th>FLAG_DOCUMENT_19</th>\n",
              "      <th>FLAG_DOCUMENT_20</th>\n",
              "      <th>FLAG_DOCUMENT_21</th>\n",
              "      <th>AMT_REQ_CREDIT_BUREAU_HOUR</th>\n",
              "      <th>AMT_REQ_CREDIT_BUREAU_DAY</th>\n",
              "      <th>AMT_REQ_CREDIT_BUREAU_WEEK</th>\n",
              "      <th>AMT_REQ_CREDIT_BUREAU_MON</th>\n",
              "      <th>AMT_REQ_CREDIT_BUREAU_QRT</th>\n",
              "      <th>AMT_REQ_CREDIT_BUREAU_YEAR</th>\n",
              "    </tr>\n",
              "  </thead>\n",
              "  <tbody>\n",
              "    <tr>\n",
              "      <th>136831</th>\n",
              "      <td>258706</td>\n",
              "      <td>0</td>\n",
              "      <td>Cash loans</td>\n",
              "      <td>M</td>\n",
              "      <td>N</td>\n",
              "      <td>N</td>\n",
              "      <td>1</td>\n",
              "      <td>157500.0</td>\n",
              "      <td>675000.0</td>\n",
              "      <td>21906.0</td>\n",
              "      <td>675000.0</td>\n",
              "      <td>Unaccompanied</td>\n",
              "      <td>Working</td>\n",
              "      <td>Lower secondary</td>\n",
              "      <td>Married</td>\n",
              "      <td>House / apartment</td>\n",
              "      <td>0.014520</td>\n",
              "      <td>-13248</td>\n",
              "      <td>-2338</td>\n",
              "      <td>-2738.0</td>\n",
              "      <td>-3913</td>\n",
              "      <td>1</td>\n",
              "      <td>1</td>\n",
              "      <td>1</td>\n",
              "      <td>1</td>\n",
              "      <td>1</td>\n",
              "      <td>0</td>\n",
              "      <td>Core staff</td>\n",
              "      <td>3.0</td>\n",
              "      <td>2</td>\n",
              "      <td>2</td>\n",
              "      <td>TUESDAY</td>\n",
              "      <td>6</td>\n",
              "      <td>0</td>\n",
              "      <td>0</td>\n",
              "      <td>0</td>\n",
              "      <td>0</td>\n",
              "      <td>1</td>\n",
              "      <td>1</td>\n",
              "      <td>Agriculture</td>\n",
              "      <td>0.345486</td>\n",
              "      <td>0.729567</td>\n",
              "      <td>10.0</td>\n",
              "      <td>0.0</td>\n",
              "      <td>10.0</td>\n",
              "      <td>0.0</td>\n",
              "      <td>-1092.0</td>\n",
              "      <td>0</td>\n",
              "      <td>1</td>\n",
              "      <td>0</td>\n",
              "      <td>0</td>\n",
              "      <td>0</td>\n",
              "      <td>0</td>\n",
              "      <td>0</td>\n",
              "      <td>0</td>\n",
              "      <td>0</td>\n",
              "      <td>0</td>\n",
              "      <td>0</td>\n",
              "      <td>0</td>\n",
              "      <td>0</td>\n",
              "      <td>0</td>\n",
              "      <td>0</td>\n",
              "      <td>0</td>\n",
              "      <td>0</td>\n",
              "      <td>0</td>\n",
              "      <td>0</td>\n",
              "      <td>0</td>\n",
              "      <td>0.0</td>\n",
              "      <td>0.0</td>\n",
              "      <td>0.0</td>\n",
              "      <td>0.0</td>\n",
              "      <td>0.0</td>\n",
              "      <td>2.0</td>\n",
              "    </tr>\n",
              "    <tr>\n",
              "      <th>165917</th>\n",
              "      <td>292345</td>\n",
              "      <td>0</td>\n",
              "      <td>Cash loans</td>\n",
              "      <td>F</td>\n",
              "      <td>N</td>\n",
              "      <td>N</td>\n",
              "      <td>0</td>\n",
              "      <td>225000.0</td>\n",
              "      <td>900000.0</td>\n",
              "      <td>40671.0</td>\n",
              "      <td>900000.0</td>\n",
              "      <td>Unaccompanied</td>\n",
              "      <td>State servant</td>\n",
              "      <td>Incomplete higher</td>\n",
              "      <td>Single / not married</td>\n",
              "      <td>House / apartment</td>\n",
              "      <td>0.035792</td>\n",
              "      <td>-11991</td>\n",
              "      <td>-5317</td>\n",
              "      <td>-5816.0</td>\n",
              "      <td>-304</td>\n",
              "      <td>1</td>\n",
              "      <td>1</td>\n",
              "      <td>1</td>\n",
              "      <td>1</td>\n",
              "      <td>0</td>\n",
              "      <td>0</td>\n",
              "      <td>High skill tech staff</td>\n",
              "      <td>1.0</td>\n",
              "      <td>2</td>\n",
              "      <td>2</td>\n",
              "      <td>WEDNESDAY</td>\n",
              "      <td>9</td>\n",
              "      <td>0</td>\n",
              "      <td>0</td>\n",
              "      <td>0</td>\n",
              "      <td>0</td>\n",
              "      <td>0</td>\n",
              "      <td>0</td>\n",
              "      <td>Government</td>\n",
              "      <td>0.390931</td>\n",
              "      <td>0.251239</td>\n",
              "      <td>0.0</td>\n",
              "      <td>0.0</td>\n",
              "      <td>0.0</td>\n",
              "      <td>0.0</td>\n",
              "      <td>-485.0</td>\n",
              "      <td>0</td>\n",
              "      <td>1</td>\n",
              "      <td>0</td>\n",
              "      <td>0</td>\n",
              "      <td>0</td>\n",
              "      <td>0</td>\n",
              "      <td>0</td>\n",
              "      <td>0</td>\n",
              "      <td>0</td>\n",
              "      <td>0</td>\n",
              "      <td>0</td>\n",
              "      <td>0</td>\n",
              "      <td>0</td>\n",
              "      <td>0</td>\n",
              "      <td>0</td>\n",
              "      <td>0</td>\n",
              "      <td>0</td>\n",
              "      <td>0</td>\n",
              "      <td>0</td>\n",
              "      <td>0</td>\n",
              "      <td>0.0</td>\n",
              "      <td>0.0</td>\n",
              "      <td>0.0</td>\n",
              "      <td>2.0</td>\n",
              "      <td>0.0</td>\n",
              "      <td>5.0</td>\n",
              "    </tr>\n",
              "    <tr>\n",
              "      <th>202316</th>\n",
              "      <td>334533</td>\n",
              "      <td>0</td>\n",
              "      <td>Cash loans</td>\n",
              "      <td>F</td>\n",
              "      <td>Y</td>\n",
              "      <td>Y</td>\n",
              "      <td>1</td>\n",
              "      <td>180000.0</td>\n",
              "      <td>270000.0</td>\n",
              "      <td>7249.5</td>\n",
              "      <td>270000.0</td>\n",
              "      <td>Unaccompanied</td>\n",
              "      <td>Working</td>\n",
              "      <td>Secondary / secondary special</td>\n",
              "      <td>Separated</td>\n",
              "      <td>House / apartment</td>\n",
              "      <td>0.026392</td>\n",
              "      <td>-14559</td>\n",
              "      <td>-4911</td>\n",
              "      <td>-2244.0</td>\n",
              "      <td>-4890</td>\n",
              "      <td>1</td>\n",
              "      <td>1</td>\n",
              "      <td>1</td>\n",
              "      <td>1</td>\n",
              "      <td>1</td>\n",
              "      <td>0</td>\n",
              "      <td>Laborers</td>\n",
              "      <td>2.0</td>\n",
              "      <td>2</td>\n",
              "      <td>2</td>\n",
              "      <td>TUESDAY</td>\n",
              "      <td>11</td>\n",
              "      <td>0</td>\n",
              "      <td>0</td>\n",
              "      <td>0</td>\n",
              "      <td>0</td>\n",
              "      <td>0</td>\n",
              "      <td>0</td>\n",
              "      <td>Transport: type 4</td>\n",
              "      <td>0.642445</td>\n",
              "      <td>0.397946</td>\n",
              "      <td>1.0</td>\n",
              "      <td>0.0</td>\n",
              "      <td>1.0</td>\n",
              "      <td>0.0</td>\n",
              "      <td>-2268.0</td>\n",
              "      <td>0</td>\n",
              "      <td>1</td>\n",
              "      <td>0</td>\n",
              "      <td>0</td>\n",
              "      <td>0</td>\n",
              "      <td>0</td>\n",
              "      <td>0</td>\n",
              "      <td>0</td>\n",
              "      <td>0</td>\n",
              "      <td>0</td>\n",
              "      <td>0</td>\n",
              "      <td>0</td>\n",
              "      <td>0</td>\n",
              "      <td>0</td>\n",
              "      <td>0</td>\n",
              "      <td>0</td>\n",
              "      <td>0</td>\n",
              "      <td>0</td>\n",
              "      <td>0</td>\n",
              "      <td>0</td>\n",
              "      <td>0.0</td>\n",
              "      <td>0.0</td>\n",
              "      <td>0.0</td>\n",
              "      <td>1.0</td>\n",
              "      <td>0.0</td>\n",
              "      <td>0.0</td>\n",
              "    </tr>\n",
              "    <tr>\n",
              "      <th>41756</th>\n",
              "      <td>148347</td>\n",
              "      <td>0</td>\n",
              "      <td>Cash loans</td>\n",
              "      <td>M</td>\n",
              "      <td>N</td>\n",
              "      <td>Y</td>\n",
              "      <td>0</td>\n",
              "      <td>202500.0</td>\n",
              "      <td>324216.0</td>\n",
              "      <td>21793.5</td>\n",
              "      <td>256500.0</td>\n",
              "      <td>Unaccompanied</td>\n",
              "      <td>Working</td>\n",
              "      <td>Secondary / secondary special</td>\n",
              "      <td>Single / not married</td>\n",
              "      <td>House / apartment</td>\n",
              "      <td>0.010966</td>\n",
              "      <td>-8308</td>\n",
              "      <td>-323</td>\n",
              "      <td>-4718.0</td>\n",
              "      <td>-986</td>\n",
              "      <td>1</td>\n",
              "      <td>1</td>\n",
              "      <td>0</td>\n",
              "      <td>1</td>\n",
              "      <td>0</td>\n",
              "      <td>1</td>\n",
              "      <td>HR staff</td>\n",
              "      <td>1.0</td>\n",
              "      <td>2</td>\n",
              "      <td>2</td>\n",
              "      <td>MONDAY</td>\n",
              "      <td>13</td>\n",
              "      <td>0</td>\n",
              "      <td>0</td>\n",
              "      <td>0</td>\n",
              "      <td>0</td>\n",
              "      <td>0</td>\n",
              "      <td>0</td>\n",
              "      <td>Business Entity Type 3</td>\n",
              "      <td>0.377588</td>\n",
              "      <td>0.184116</td>\n",
              "      <td>5.0</td>\n",
              "      <td>0.0</td>\n",
              "      <td>5.0</td>\n",
              "      <td>0.0</td>\n",
              "      <td>-5.0</td>\n",
              "      <td>0</td>\n",
              "      <td>0</td>\n",
              "      <td>0</td>\n",
              "      <td>0</td>\n",
              "      <td>0</td>\n",
              "      <td>0</td>\n",
              "      <td>1</td>\n",
              "      <td>0</td>\n",
              "      <td>0</td>\n",
              "      <td>0</td>\n",
              "      <td>0</td>\n",
              "      <td>0</td>\n",
              "      <td>0</td>\n",
              "      <td>0</td>\n",
              "      <td>0</td>\n",
              "      <td>0</td>\n",
              "      <td>0</td>\n",
              "      <td>0</td>\n",
              "      <td>0</td>\n",
              "      <td>0</td>\n",
              "      <td>0.0</td>\n",
              "      <td>0.0</td>\n",
              "      <td>0.0</td>\n",
              "      <td>0.0</td>\n",
              "      <td>0.0</td>\n",
              "      <td>1.0</td>\n",
              "    </tr>\n",
              "    <tr>\n",
              "      <th>139412</th>\n",
              "      <td>261642</td>\n",
              "      <td>0</td>\n",
              "      <td>Cash loans</td>\n",
              "      <td>F</td>\n",
              "      <td>N</td>\n",
              "      <td>Y</td>\n",
              "      <td>2</td>\n",
              "      <td>112500.0</td>\n",
              "      <td>414792.0</td>\n",
              "      <td>19350.0</td>\n",
              "      <td>315000.0</td>\n",
              "      <td>Unaccompanied</td>\n",
              "      <td>Working</td>\n",
              "      <td>Secondary / secondary special</td>\n",
              "      <td>Married</td>\n",
              "      <td>House / apartment</td>\n",
              "      <td>0.020713</td>\n",
              "      <td>-12037</td>\n",
              "      <td>-1442</td>\n",
              "      <td>-187.0</td>\n",
              "      <td>-759</td>\n",
              "      <td>1</td>\n",
              "      <td>1</td>\n",
              "      <td>0</td>\n",
              "      <td>1</td>\n",
              "      <td>0</td>\n",
              "      <td>0</td>\n",
              "      <td>Waiters/barmen staff</td>\n",
              "      <td>4.0</td>\n",
              "      <td>3</td>\n",
              "      <td>3</td>\n",
              "      <td>TUESDAY</td>\n",
              "      <td>9</td>\n",
              "      <td>0</td>\n",
              "      <td>0</td>\n",
              "      <td>0</td>\n",
              "      <td>0</td>\n",
              "      <td>0</td>\n",
              "      <td>0</td>\n",
              "      <td>Restaurant</td>\n",
              "      <td>0.467541</td>\n",
              "      <td>0.340906</td>\n",
              "      <td>2.0</td>\n",
              "      <td>0.0</td>\n",
              "      <td>1.0</td>\n",
              "      <td>0.0</td>\n",
              "      <td>-527.0</td>\n",
              "      <td>0</td>\n",
              "      <td>1</td>\n",
              "      <td>0</td>\n",
              "      <td>0</td>\n",
              "      <td>0</td>\n",
              "      <td>0</td>\n",
              "      <td>0</td>\n",
              "      <td>0</td>\n",
              "      <td>0</td>\n",
              "      <td>0</td>\n",
              "      <td>0</td>\n",
              "      <td>0</td>\n",
              "      <td>0</td>\n",
              "      <td>0</td>\n",
              "      <td>0</td>\n",
              "      <td>0</td>\n",
              "      <td>0</td>\n",
              "      <td>0</td>\n",
              "      <td>0</td>\n",
              "      <td>0</td>\n",
              "      <td>0.0</td>\n",
              "      <td>0.0</td>\n",
              "      <td>0.0</td>\n",
              "      <td>0.0</td>\n",
              "      <td>0.0</td>\n",
              "      <td>6.0</td>\n",
              "    </tr>\n",
              "  </tbody>\n",
              "</table>\n",
              "</div>\n",
              "      <button class=\"colab-df-convert\" onclick=\"convertToInteractive('df-22d2a720-a158-42b7-9632-f33462fea4a0')\"\n",
              "              title=\"Convert this dataframe to an interactive table.\"\n",
              "              style=\"display:none;\">\n",
              "        \n",
              "  <svg xmlns=\"http://www.w3.org/2000/svg\" height=\"24px\"viewBox=\"0 0 24 24\"\n",
              "       width=\"24px\">\n",
              "    <path d=\"M0 0h24v24H0V0z\" fill=\"none\"/>\n",
              "    <path d=\"M18.56 5.44l.94 2.06.94-2.06 2.06-.94-2.06-.94-.94-2.06-.94 2.06-2.06.94zm-11 1L8.5 8.5l.94-2.06 2.06-.94-2.06-.94L8.5 2.5l-.94 2.06-2.06.94zm10 10l.94 2.06.94-2.06 2.06-.94-2.06-.94-.94-2.06-.94 2.06-2.06.94z\"/><path d=\"M17.41 7.96l-1.37-1.37c-.4-.4-.92-.59-1.43-.59-.52 0-1.04.2-1.43.59L10.3 9.45l-7.72 7.72c-.78.78-.78 2.05 0 2.83L4 21.41c.39.39.9.59 1.41.59.51 0 1.02-.2 1.41-.59l7.78-7.78 2.81-2.81c.8-.78.8-2.07 0-2.86zM5.41 20L4 18.59l7.72-7.72 1.47 1.35L5.41 20z\"/>\n",
              "  </svg>\n",
              "      </button>\n",
              "      \n",
              "  <style>\n",
              "    .colab-df-container {\n",
              "      display:flex;\n",
              "      flex-wrap:wrap;\n",
              "      gap: 12px;\n",
              "    }\n",
              "\n",
              "    .colab-df-convert {\n",
              "      background-color: #E8F0FE;\n",
              "      border: none;\n",
              "      border-radius: 50%;\n",
              "      cursor: pointer;\n",
              "      display: none;\n",
              "      fill: #1967D2;\n",
              "      height: 32px;\n",
              "      padding: 0 0 0 0;\n",
              "      width: 32px;\n",
              "    }\n",
              "\n",
              "    .colab-df-convert:hover {\n",
              "      background-color: #E2EBFA;\n",
              "      box-shadow: 0px 1px 2px rgba(60, 64, 67, 0.3), 0px 1px 3px 1px rgba(60, 64, 67, 0.15);\n",
              "      fill: #174EA6;\n",
              "    }\n",
              "\n",
              "    [theme=dark] .colab-df-convert {\n",
              "      background-color: #3B4455;\n",
              "      fill: #D2E3FC;\n",
              "    }\n",
              "\n",
              "    [theme=dark] .colab-df-convert:hover {\n",
              "      background-color: #434B5C;\n",
              "      box-shadow: 0px 1px 3px 1px rgba(0, 0, 0, 0.15);\n",
              "      filter: drop-shadow(0px 1px 2px rgba(0, 0, 0, 0.3));\n",
              "      fill: #FFFFFF;\n",
              "    }\n",
              "  </style>\n",
              "\n",
              "      <script>\n",
              "        const buttonEl =\n",
              "          document.querySelector('#df-22d2a720-a158-42b7-9632-f33462fea4a0 button.colab-df-convert');\n",
              "        buttonEl.style.display =\n",
              "          google.colab.kernel.accessAllowed ? 'block' : 'none';\n",
              "\n",
              "        async function convertToInteractive(key) {\n",
              "          const element = document.querySelector('#df-22d2a720-a158-42b7-9632-f33462fea4a0');\n",
              "          const dataTable =\n",
              "            await google.colab.kernel.invokeFunction('convertToInteractive',\n",
              "                                                     [key], {});\n",
              "          if (!dataTable) return;\n",
              "\n",
              "          const docLinkHtml = 'Like what you see? Visit the ' +\n",
              "            '<a target=\"_blank\" href=https://colab.research.google.com/notebooks/data_table.ipynb>data table notebook</a>'\n",
              "            + ' to learn more about interactive tables.';\n",
              "          element.innerHTML = '';\n",
              "          dataTable['output_type'] = 'display_data';\n",
              "          await google.colab.output.renderOutput(dataTable, element);\n",
              "          const docLink = document.createElement('div');\n",
              "          docLink.innerHTML = docLinkHtml;\n",
              "          element.appendChild(docLink);\n",
              "        }\n",
              "      </script>\n",
              "    </div>\n",
              "  </div>\n",
              "  "
            ]
          },
          "metadata": {},
          "execution_count": 17
        }
      ]
    },
    {
      "cell_type": "code",
      "source": [
        "data_train.info()"
      ],
      "metadata": {
        "colab": {
          "base_uri": "https://localhost:8080/"
        },
        "id": "RTRumX3wRMbn",
        "outputId": "ee7d0149-5fe1-4612-c94f-ac9c9e2cf164"
      },
      "execution_count": null,
      "outputs": [
        {
          "output_type": "stream",
          "name": "stdout",
          "text": [
            "<class 'pandas.core.frame.DataFrame'>\n",
            "Int64Index: 167732 entries, 0 to 307510\n",
            "Data columns (total 73 columns):\n",
            " #   Column                       Non-Null Count   Dtype  \n",
            "---  ------                       --------------   -----  \n",
            " 0   SK_ID_CURR                   167732 non-null  int64  \n",
            " 1   TARGET                       167732 non-null  int64  \n",
            " 2   NAME_CONTRACT_TYPE           167732 non-null  object \n",
            " 3   CODE_GENDER                  167732 non-null  object \n",
            " 4   FLAG_OWN_CAR                 167732 non-null  object \n",
            " 5   FLAG_OWN_REALTY              167732 non-null  object \n",
            " 6   CNT_CHILDREN                 167732 non-null  int64  \n",
            " 7   AMT_INCOME_TOTAL             167732 non-null  float64\n",
            " 8   AMT_CREDIT                   167732 non-null  float64\n",
            " 9   AMT_ANNUITY                  167732 non-null  float64\n",
            " 10  AMT_GOODS_PRICE              167732 non-null  float64\n",
            " 11  NAME_TYPE_SUITE              167732 non-null  object \n",
            " 12  NAME_INCOME_TYPE             167732 non-null  object \n",
            " 13  NAME_EDUCATION_TYPE          167732 non-null  object \n",
            " 14  NAME_FAMILY_STATUS           167732 non-null  object \n",
            " 15  NAME_HOUSING_TYPE            167732 non-null  object \n",
            " 16  REGION_POPULATION_RELATIVE   167732 non-null  float64\n",
            " 17  DAYS_BIRTH                   167732 non-null  int64  \n",
            " 18  DAYS_EMPLOYED                167732 non-null  int64  \n",
            " 19  DAYS_REGISTRATION            167732 non-null  float64\n",
            " 20  DAYS_ID_PUBLISH              167732 non-null  int64  \n",
            " 21  FLAG_MOBIL                   167732 non-null  int64  \n",
            " 22  FLAG_EMP_PHONE               167732 non-null  int64  \n",
            " 23  FLAG_WORK_PHONE              167732 non-null  int64  \n",
            " 24  FLAG_CONT_MOBILE             167732 non-null  int64  \n",
            " 25  FLAG_PHONE                   167732 non-null  int64  \n",
            " 26  FLAG_EMAIL                   167732 non-null  int64  \n",
            " 27  OCCUPATION_TYPE              167732 non-null  object \n",
            " 28  CNT_FAM_MEMBERS              167732 non-null  float64\n",
            " 29  REGION_RATING_CLIENT         167732 non-null  int64  \n",
            " 30  REGION_RATING_CLIENT_W_CITY  167732 non-null  int64  \n",
            " 31  WEEKDAY_APPR_PROCESS_START   167732 non-null  object \n",
            " 32  HOUR_APPR_PROCESS_START      167732 non-null  int64  \n",
            " 33  REG_REGION_NOT_LIVE_REGION   167732 non-null  int64  \n",
            " 34  REG_REGION_NOT_WORK_REGION   167732 non-null  int64  \n",
            " 35  LIVE_REGION_NOT_WORK_REGION  167732 non-null  int64  \n",
            " 36  REG_CITY_NOT_LIVE_CITY       167732 non-null  int64  \n",
            " 37  REG_CITY_NOT_WORK_CITY       167732 non-null  int64  \n",
            " 38  LIVE_CITY_NOT_WORK_CITY      167732 non-null  int64  \n",
            " 39  ORGANIZATION_TYPE            167732 non-null  object \n",
            " 40  EXT_SOURCE_2                 167732 non-null  float64\n",
            " 41  EXT_SOURCE_3                 167732 non-null  float64\n",
            " 42  OBS_30_CNT_SOCIAL_CIRCLE     167732 non-null  float64\n",
            " 43  DEF_30_CNT_SOCIAL_CIRCLE     167732 non-null  float64\n",
            " 44  OBS_60_CNT_SOCIAL_CIRCLE     167732 non-null  float64\n",
            " 45  DEF_60_CNT_SOCIAL_CIRCLE     167732 non-null  float64\n",
            " 46  DAYS_LAST_PHONE_CHANGE       167732 non-null  float64\n",
            " 47  FLAG_DOCUMENT_2              167732 non-null  int64  \n",
            " 48  FLAG_DOCUMENT_3              167732 non-null  int64  \n",
            " 49  FLAG_DOCUMENT_4              167732 non-null  int64  \n",
            " 50  FLAG_DOCUMENT_5              167732 non-null  int64  \n",
            " 51  FLAG_DOCUMENT_6              167732 non-null  int64  \n",
            " 52  FLAG_DOCUMENT_7              167732 non-null  int64  \n",
            " 53  FLAG_DOCUMENT_8              167732 non-null  int64  \n",
            " 54  FLAG_DOCUMENT_9              167732 non-null  int64  \n",
            " 55  FLAG_DOCUMENT_10             167732 non-null  int64  \n",
            " 56  FLAG_DOCUMENT_11             167732 non-null  int64  \n",
            " 57  FLAG_DOCUMENT_12             167732 non-null  int64  \n",
            " 58  FLAG_DOCUMENT_13             167732 non-null  int64  \n",
            " 59  FLAG_DOCUMENT_14             167732 non-null  int64  \n",
            " 60  FLAG_DOCUMENT_15             167732 non-null  int64  \n",
            " 61  FLAG_DOCUMENT_16             167732 non-null  int64  \n",
            " 62  FLAG_DOCUMENT_17             167732 non-null  int64  \n",
            " 63  FLAG_DOCUMENT_18             167732 non-null  int64  \n",
            " 64  FLAG_DOCUMENT_19             167732 non-null  int64  \n",
            " 65  FLAG_DOCUMENT_20             167732 non-null  int64  \n",
            " 66  FLAG_DOCUMENT_21             167732 non-null  int64  \n",
            " 67  AMT_REQ_CREDIT_BUREAU_HOUR   167732 non-null  float64\n",
            " 68  AMT_REQ_CREDIT_BUREAU_DAY    167732 non-null  float64\n",
            " 69  AMT_REQ_CREDIT_BUREAU_WEEK   167732 non-null  float64\n",
            " 70  AMT_REQ_CREDIT_BUREAU_MON    167732 non-null  float64\n",
            " 71  AMT_REQ_CREDIT_BUREAU_QRT    167732 non-null  float64\n",
            " 72  AMT_REQ_CREDIT_BUREAU_YEAR   167732 non-null  float64\n",
            "dtypes: float64(20), int64(41), object(12)\n",
            "memory usage: 94.7+ MB\n"
          ]
        }
      ]
    },
    {
      "cell_type": "markdown",
      "source": [
        "# Label Encoder"
      ],
      "metadata": {
        "id": "2TnF8l94J0_x"
      }
    },
    {
      "cell_type": "markdown",
      "source": [
        "Semua kolom kategorikal (object) dilakukan label encoder untuk memudahkan pemodelan"
      ],
      "metadata": {
        "id": "T5hUWh5tJ6t3"
      }
    },
    {
      "cell_type": "code",
      "source": [
        "from sklearn import preprocessing\n",
        "from sklearn.preprocessing import LabelEncoder\n",
        "encoder = LabelEncoder()"
      ],
      "metadata": {
        "id": "qjI5MmXORv4M"
      },
      "execution_count": null,
      "outputs": []
    },
    {
      "cell_type": "code",
      "source": [
        "categorical_data = ['NAME_CONTRACT_TYPE','CODE_GENDER','FLAG_OWN_CAR','FLAG_OWN_REALTY','NAME_TYPE_SUITE','NAME_INCOME_TYPE','NAME_EDUCATION_TYPE','NAME_FAMILY_STATUS','NAME_HOUSING_TYPE','OCCUPATION_TYPE','WEEKDAY_APPR_PROCESS_START','ORGANIZATION_TYPE']"
      ],
      "metadata": {
        "id": "yrvmfCDeSHhn"
      },
      "execution_count": null,
      "outputs": []
    },
    {
      "cell_type": "code",
      "source": [
        "data_train.select_dtypes(include='object').nunique()"
      ],
      "metadata": {
        "colab": {
          "base_uri": "https://localhost:8080/"
        },
        "id": "oidB3BGpI46a",
        "outputId": "cb6a5155-622a-413a-858d-cc5d8e86b0c7"
      },
      "execution_count": null,
      "outputs": [
        {
          "output_type": "execute_result",
          "data": {
            "text/plain": [
              "NAME_CONTRACT_TYPE             2\n",
              "CODE_GENDER                    3\n",
              "FLAG_OWN_CAR                   2\n",
              "FLAG_OWN_REALTY                2\n",
              "NAME_TYPE_SUITE                7\n",
              "NAME_INCOME_TYPE               6\n",
              "NAME_EDUCATION_TYPE            5\n",
              "NAME_FAMILY_STATUS             5\n",
              "NAME_HOUSING_TYPE              6\n",
              "OCCUPATION_TYPE               18\n",
              "WEEKDAY_APPR_PROCESS_START     7\n",
              "ORGANIZATION_TYPE             57\n",
              "dtype: int64"
            ]
          },
          "metadata": {},
          "execution_count": 21
        }
      ]
    },
    {
      "cell_type": "code",
      "source": [
        "data_train['CODE_GENDER'].unique()"
      ],
      "metadata": {
        "colab": {
          "base_uri": "https://localhost:8080/"
        },
        "id": "ANi12UgjJIUv",
        "outputId": "f9640a46-1ba7-4023-d0ee-660ecdb47d1e"
      },
      "execution_count": null,
      "outputs": [
        {
          "output_type": "execute_result",
          "data": {
            "text/plain": [
              "array(['M', 'F', 'XNA'], dtype=object)"
            ]
          },
          "metadata": {},
          "execution_count": 22
        }
      ]
    },
    {
      "cell_type": "code",
      "source": [
        "data_train['CODE_GENDER'] = data_train['CODE_GENDER'].str.replace('XNA', 'NaN')"
      ],
      "metadata": {
        "id": "EBDNAE2QJU5C"
      },
      "execution_count": null,
      "outputs": []
    },
    {
      "cell_type": "code",
      "source": [
        "data_train[data_train['CODE_GENDER'] == 'NaN']"
      ],
      "metadata": {
        "colab": {
          "base_uri": "https://localhost:8080/",
          "height": 193
        },
        "id": "6pJC3W5RJ2an",
        "outputId": "7d312a1b-3bb3-40cc-f9e5-b47342a79496"
      },
      "execution_count": null,
      "outputs": [
        {
          "output_type": "execute_result",
          "data": {
            "text/plain": [
              "       SK_ID_CURR  TARGET NAME_CONTRACT_TYPE CODE_GENDER FLAG_OWN_CAR  \\\n",
              "38566      144669       0    Revolving loans         NaN            N   \n",
              "83382      196708       0    Revolving loans         NaN            N   \n",
              "\n",
              "      FLAG_OWN_REALTY  CNT_CHILDREN  AMT_INCOME_TOTAL  AMT_CREDIT  \\\n",
              "38566               Y             2          157500.0    270000.0   \n",
              "83382               Y             1          135000.0    405000.0   \n",
              "\n",
              "       AMT_ANNUITY  AMT_GOODS_PRICE NAME_TYPE_SUITE NAME_INCOME_TYPE  \\\n",
              "38566      13500.0         225000.0          Family          Working   \n",
              "83382      20250.0         225000.0   Unaccompanied          Working   \n",
              "\n",
              "                 NAME_EDUCATION_TYPE NAME_FAMILY_STATUS  NAME_HOUSING_TYPE  \\\n",
              "38566  Secondary / secondary special            Married  House / apartment   \n",
              "83382               Higher education            Married  House / apartment   \n",
              "\n",
              "       REGION_POPULATION_RELATIVE  DAYS_BIRTH  DAYS_EMPLOYED  \\\n",
              "38566                    0.026392      -13717          -2797   \n",
              "83382                    0.035792      -10647          -1228   \n",
              "\n",
              "       DAYS_REGISTRATION  DAYS_ID_PUBLISH  FLAG_MOBIL  FLAG_EMP_PHONE  \\\n",
              "38566            -2241.0            -4659           1               1   \n",
              "83382             -183.0            -1671           1               1   \n",
              "\n",
              "       FLAG_WORK_PHONE  FLAG_CONT_MOBILE  FLAG_PHONE  FLAG_EMAIL  \\\n",
              "38566                1                 1           1           0   \n",
              "83382                1                 1           1           0   \n",
              "\n",
              "          OCCUPATION_TYPE  CNT_FAM_MEMBERS  REGION_RATING_CLIENT  \\\n",
              "38566  Low-skill Laborers              4.0                     2   \n",
              "83382          Core staff              3.0                     2   \n",
              "\n",
              "       REGION_RATING_CLIENT_W_CITY WEEKDAY_APPR_PROCESS_START  \\\n",
              "38566                            2                     FRIDAY   \n",
              "83382                            2                   THURSDAY   \n",
              "\n",
              "       HOUR_APPR_PROCESS_START  REG_REGION_NOT_LIVE_REGION  \\\n",
              "38566                       16                           0   \n",
              "83382                       15                           0   \n",
              "\n",
              "       REG_REGION_NOT_WORK_REGION  LIVE_REGION_NOT_WORK_REGION  \\\n",
              "38566                           0                            0   \n",
              "83382                           0                            0   \n",
              "\n",
              "       REG_CITY_NOT_LIVE_CITY  REG_CITY_NOT_WORK_CITY  \\\n",
              "38566                       0                       0   \n",
              "83382                       0                       0   \n",
              "\n",
              "       LIVE_CITY_NOT_WORK_CITY ORGANIZATION_TYPE  EXT_SOURCE_2  EXT_SOURCE_3  \\\n",
              "38566                        0  Industry: type 3      0.709205      0.310818   \n",
              "83382                        0      Kindergarten      0.659185      0.076984   \n",
              "\n",
              "       OBS_30_CNT_SOCIAL_CIRCLE  DEF_30_CNT_SOCIAL_CIRCLE  \\\n",
              "38566                       0.0                       0.0   \n",
              "83382                       7.0                       1.0   \n",
              "\n",
              "       OBS_60_CNT_SOCIAL_CIRCLE  DEF_60_CNT_SOCIAL_CIRCLE  \\\n",
              "38566                       0.0                       0.0   \n",
              "83382                       7.0                       1.0   \n",
              "\n",
              "       DAYS_LAST_PHONE_CHANGE  FLAG_DOCUMENT_2  FLAG_DOCUMENT_3  \\\n",
              "38566                  -493.0                0                0   \n",
              "83382                  -851.0                0                0   \n",
              "\n",
              "       FLAG_DOCUMENT_4  FLAG_DOCUMENT_5  FLAG_DOCUMENT_6  FLAG_DOCUMENT_7  \\\n",
              "38566                0                0                0                0   \n",
              "83382                0                0                0                0   \n",
              "\n",
              "       FLAG_DOCUMENT_8  FLAG_DOCUMENT_9  FLAG_DOCUMENT_10  FLAG_DOCUMENT_11  \\\n",
              "38566                0                0                 0                 0   \n",
              "83382                0                0                 0                 0   \n",
              "\n",
              "       FLAG_DOCUMENT_12  FLAG_DOCUMENT_13  FLAG_DOCUMENT_14  FLAG_DOCUMENT_15  \\\n",
              "38566                 0                 0                 0                 0   \n",
              "83382                 0                 0                 0                 0   \n",
              "\n",
              "       FLAG_DOCUMENT_16  FLAG_DOCUMENT_17  FLAG_DOCUMENT_18  FLAG_DOCUMENT_19  \\\n",
              "38566                 0                 0                 0                 0   \n",
              "83382                 0                 0                 0                 0   \n",
              "\n",
              "       FLAG_DOCUMENT_20  FLAG_DOCUMENT_21  AMT_REQ_CREDIT_BUREAU_HOUR  \\\n",
              "38566                 0                 0                         0.0   \n",
              "83382                 0                 0                         0.0   \n",
              "\n",
              "       AMT_REQ_CREDIT_BUREAU_DAY  AMT_REQ_CREDIT_BUREAU_WEEK  \\\n",
              "38566                        0.0                         0.0   \n",
              "83382                        0.0                         0.0   \n",
              "\n",
              "       AMT_REQ_CREDIT_BUREAU_MON  AMT_REQ_CREDIT_BUREAU_QRT  \\\n",
              "38566                        3.0                        0.0   \n",
              "83382                        0.0                        0.0   \n",
              "\n",
              "       AMT_REQ_CREDIT_BUREAU_YEAR  \n",
              "38566                         4.0  \n",
              "83382                         3.0  "
            ],
            "text/html": [
              "\n",
              "  <div id=\"df-a4ef4cb5-0a2b-4a3f-a4d0-b8e01117de30\">\n",
              "    <div class=\"colab-df-container\">\n",
              "      <div>\n",
              "<style scoped>\n",
              "    .dataframe tbody tr th:only-of-type {\n",
              "        vertical-align: middle;\n",
              "    }\n",
              "\n",
              "    .dataframe tbody tr th {\n",
              "        vertical-align: top;\n",
              "    }\n",
              "\n",
              "    .dataframe thead th {\n",
              "        text-align: right;\n",
              "    }\n",
              "</style>\n",
              "<table border=\"1\" class=\"dataframe\">\n",
              "  <thead>\n",
              "    <tr style=\"text-align: right;\">\n",
              "      <th></th>\n",
              "      <th>SK_ID_CURR</th>\n",
              "      <th>TARGET</th>\n",
              "      <th>NAME_CONTRACT_TYPE</th>\n",
              "      <th>CODE_GENDER</th>\n",
              "      <th>FLAG_OWN_CAR</th>\n",
              "      <th>FLAG_OWN_REALTY</th>\n",
              "      <th>CNT_CHILDREN</th>\n",
              "      <th>AMT_INCOME_TOTAL</th>\n",
              "      <th>AMT_CREDIT</th>\n",
              "      <th>AMT_ANNUITY</th>\n",
              "      <th>AMT_GOODS_PRICE</th>\n",
              "      <th>NAME_TYPE_SUITE</th>\n",
              "      <th>NAME_INCOME_TYPE</th>\n",
              "      <th>NAME_EDUCATION_TYPE</th>\n",
              "      <th>NAME_FAMILY_STATUS</th>\n",
              "      <th>NAME_HOUSING_TYPE</th>\n",
              "      <th>REGION_POPULATION_RELATIVE</th>\n",
              "      <th>DAYS_BIRTH</th>\n",
              "      <th>DAYS_EMPLOYED</th>\n",
              "      <th>DAYS_REGISTRATION</th>\n",
              "      <th>DAYS_ID_PUBLISH</th>\n",
              "      <th>FLAG_MOBIL</th>\n",
              "      <th>FLAG_EMP_PHONE</th>\n",
              "      <th>FLAG_WORK_PHONE</th>\n",
              "      <th>FLAG_CONT_MOBILE</th>\n",
              "      <th>FLAG_PHONE</th>\n",
              "      <th>FLAG_EMAIL</th>\n",
              "      <th>OCCUPATION_TYPE</th>\n",
              "      <th>CNT_FAM_MEMBERS</th>\n",
              "      <th>REGION_RATING_CLIENT</th>\n",
              "      <th>REGION_RATING_CLIENT_W_CITY</th>\n",
              "      <th>WEEKDAY_APPR_PROCESS_START</th>\n",
              "      <th>HOUR_APPR_PROCESS_START</th>\n",
              "      <th>REG_REGION_NOT_LIVE_REGION</th>\n",
              "      <th>REG_REGION_NOT_WORK_REGION</th>\n",
              "      <th>LIVE_REGION_NOT_WORK_REGION</th>\n",
              "      <th>REG_CITY_NOT_LIVE_CITY</th>\n",
              "      <th>REG_CITY_NOT_WORK_CITY</th>\n",
              "      <th>LIVE_CITY_NOT_WORK_CITY</th>\n",
              "      <th>ORGANIZATION_TYPE</th>\n",
              "      <th>EXT_SOURCE_2</th>\n",
              "      <th>EXT_SOURCE_3</th>\n",
              "      <th>OBS_30_CNT_SOCIAL_CIRCLE</th>\n",
              "      <th>DEF_30_CNT_SOCIAL_CIRCLE</th>\n",
              "      <th>OBS_60_CNT_SOCIAL_CIRCLE</th>\n",
              "      <th>DEF_60_CNT_SOCIAL_CIRCLE</th>\n",
              "      <th>DAYS_LAST_PHONE_CHANGE</th>\n",
              "      <th>FLAG_DOCUMENT_2</th>\n",
              "      <th>FLAG_DOCUMENT_3</th>\n",
              "      <th>FLAG_DOCUMENT_4</th>\n",
              "      <th>FLAG_DOCUMENT_5</th>\n",
              "      <th>FLAG_DOCUMENT_6</th>\n",
              "      <th>FLAG_DOCUMENT_7</th>\n",
              "      <th>FLAG_DOCUMENT_8</th>\n",
              "      <th>FLAG_DOCUMENT_9</th>\n",
              "      <th>FLAG_DOCUMENT_10</th>\n",
              "      <th>FLAG_DOCUMENT_11</th>\n",
              "      <th>FLAG_DOCUMENT_12</th>\n",
              "      <th>FLAG_DOCUMENT_13</th>\n",
              "      <th>FLAG_DOCUMENT_14</th>\n",
              "      <th>FLAG_DOCUMENT_15</th>\n",
              "      <th>FLAG_DOCUMENT_16</th>\n",
              "      <th>FLAG_DOCUMENT_17</th>\n",
              "      <th>FLAG_DOCUMENT_18</th>\n",
              "      <th>FLAG_DOCUMENT_19</th>\n",
              "      <th>FLAG_DOCUMENT_20</th>\n",
              "      <th>FLAG_DOCUMENT_21</th>\n",
              "      <th>AMT_REQ_CREDIT_BUREAU_HOUR</th>\n",
              "      <th>AMT_REQ_CREDIT_BUREAU_DAY</th>\n",
              "      <th>AMT_REQ_CREDIT_BUREAU_WEEK</th>\n",
              "      <th>AMT_REQ_CREDIT_BUREAU_MON</th>\n",
              "      <th>AMT_REQ_CREDIT_BUREAU_QRT</th>\n",
              "      <th>AMT_REQ_CREDIT_BUREAU_YEAR</th>\n",
              "    </tr>\n",
              "  </thead>\n",
              "  <tbody>\n",
              "    <tr>\n",
              "      <th>38566</th>\n",
              "      <td>144669</td>\n",
              "      <td>0</td>\n",
              "      <td>Revolving loans</td>\n",
              "      <td>NaN</td>\n",
              "      <td>N</td>\n",
              "      <td>Y</td>\n",
              "      <td>2</td>\n",
              "      <td>157500.0</td>\n",
              "      <td>270000.0</td>\n",
              "      <td>13500.0</td>\n",
              "      <td>225000.0</td>\n",
              "      <td>Family</td>\n",
              "      <td>Working</td>\n",
              "      <td>Secondary / secondary special</td>\n",
              "      <td>Married</td>\n",
              "      <td>House / apartment</td>\n",
              "      <td>0.026392</td>\n",
              "      <td>-13717</td>\n",
              "      <td>-2797</td>\n",
              "      <td>-2241.0</td>\n",
              "      <td>-4659</td>\n",
              "      <td>1</td>\n",
              "      <td>1</td>\n",
              "      <td>1</td>\n",
              "      <td>1</td>\n",
              "      <td>1</td>\n",
              "      <td>0</td>\n",
              "      <td>Low-skill Laborers</td>\n",
              "      <td>4.0</td>\n",
              "      <td>2</td>\n",
              "      <td>2</td>\n",
              "      <td>FRIDAY</td>\n",
              "      <td>16</td>\n",
              "      <td>0</td>\n",
              "      <td>0</td>\n",
              "      <td>0</td>\n",
              "      <td>0</td>\n",
              "      <td>0</td>\n",
              "      <td>0</td>\n",
              "      <td>Industry: type 3</td>\n",
              "      <td>0.709205</td>\n",
              "      <td>0.310818</td>\n",
              "      <td>0.0</td>\n",
              "      <td>0.0</td>\n",
              "      <td>0.0</td>\n",
              "      <td>0.0</td>\n",
              "      <td>-493.0</td>\n",
              "      <td>0</td>\n",
              "      <td>0</td>\n",
              "      <td>0</td>\n",
              "      <td>0</td>\n",
              "      <td>0</td>\n",
              "      <td>0</td>\n",
              "      <td>0</td>\n",
              "      <td>0</td>\n",
              "      <td>0</td>\n",
              "      <td>0</td>\n",
              "      <td>0</td>\n",
              "      <td>0</td>\n",
              "      <td>0</td>\n",
              "      <td>0</td>\n",
              "      <td>0</td>\n",
              "      <td>0</td>\n",
              "      <td>0</td>\n",
              "      <td>0</td>\n",
              "      <td>0</td>\n",
              "      <td>0</td>\n",
              "      <td>0.0</td>\n",
              "      <td>0.0</td>\n",
              "      <td>0.0</td>\n",
              "      <td>3.0</td>\n",
              "      <td>0.0</td>\n",
              "      <td>4.0</td>\n",
              "    </tr>\n",
              "    <tr>\n",
              "      <th>83382</th>\n",
              "      <td>196708</td>\n",
              "      <td>0</td>\n",
              "      <td>Revolving loans</td>\n",
              "      <td>NaN</td>\n",
              "      <td>N</td>\n",
              "      <td>Y</td>\n",
              "      <td>1</td>\n",
              "      <td>135000.0</td>\n",
              "      <td>405000.0</td>\n",
              "      <td>20250.0</td>\n",
              "      <td>225000.0</td>\n",
              "      <td>Unaccompanied</td>\n",
              "      <td>Working</td>\n",
              "      <td>Higher education</td>\n",
              "      <td>Married</td>\n",
              "      <td>House / apartment</td>\n",
              "      <td>0.035792</td>\n",
              "      <td>-10647</td>\n",
              "      <td>-1228</td>\n",
              "      <td>-183.0</td>\n",
              "      <td>-1671</td>\n",
              "      <td>1</td>\n",
              "      <td>1</td>\n",
              "      <td>1</td>\n",
              "      <td>1</td>\n",
              "      <td>1</td>\n",
              "      <td>0</td>\n",
              "      <td>Core staff</td>\n",
              "      <td>3.0</td>\n",
              "      <td>2</td>\n",
              "      <td>2</td>\n",
              "      <td>THURSDAY</td>\n",
              "      <td>15</td>\n",
              "      <td>0</td>\n",
              "      <td>0</td>\n",
              "      <td>0</td>\n",
              "      <td>0</td>\n",
              "      <td>0</td>\n",
              "      <td>0</td>\n",
              "      <td>Kindergarten</td>\n",
              "      <td>0.659185</td>\n",
              "      <td>0.076984</td>\n",
              "      <td>7.0</td>\n",
              "      <td>1.0</td>\n",
              "      <td>7.0</td>\n",
              "      <td>1.0</td>\n",
              "      <td>-851.0</td>\n",
              "      <td>0</td>\n",
              "      <td>0</td>\n",
              "      <td>0</td>\n",
              "      <td>0</td>\n",
              "      <td>0</td>\n",
              "      <td>0</td>\n",
              "      <td>0</td>\n",
              "      <td>0</td>\n",
              "      <td>0</td>\n",
              "      <td>0</td>\n",
              "      <td>0</td>\n",
              "      <td>0</td>\n",
              "      <td>0</td>\n",
              "      <td>0</td>\n",
              "      <td>0</td>\n",
              "      <td>0</td>\n",
              "      <td>0</td>\n",
              "      <td>0</td>\n",
              "      <td>0</td>\n",
              "      <td>0</td>\n",
              "      <td>0.0</td>\n",
              "      <td>0.0</td>\n",
              "      <td>0.0</td>\n",
              "      <td>0.0</td>\n",
              "      <td>0.0</td>\n",
              "      <td>3.0</td>\n",
              "    </tr>\n",
              "  </tbody>\n",
              "</table>\n",
              "</div>\n",
              "      <button class=\"colab-df-convert\" onclick=\"convertToInteractive('df-a4ef4cb5-0a2b-4a3f-a4d0-b8e01117de30')\"\n",
              "              title=\"Convert this dataframe to an interactive table.\"\n",
              "              style=\"display:none;\">\n",
              "        \n",
              "  <svg xmlns=\"http://www.w3.org/2000/svg\" height=\"24px\"viewBox=\"0 0 24 24\"\n",
              "       width=\"24px\">\n",
              "    <path d=\"M0 0h24v24H0V0z\" fill=\"none\"/>\n",
              "    <path d=\"M18.56 5.44l.94 2.06.94-2.06 2.06-.94-2.06-.94-.94-2.06-.94 2.06-2.06.94zm-11 1L8.5 8.5l.94-2.06 2.06-.94-2.06-.94L8.5 2.5l-.94 2.06-2.06.94zm10 10l.94 2.06.94-2.06 2.06-.94-2.06-.94-.94-2.06-.94 2.06-2.06.94z\"/><path d=\"M17.41 7.96l-1.37-1.37c-.4-.4-.92-.59-1.43-.59-.52 0-1.04.2-1.43.59L10.3 9.45l-7.72 7.72c-.78.78-.78 2.05 0 2.83L4 21.41c.39.39.9.59 1.41.59.51 0 1.02-.2 1.41-.59l7.78-7.78 2.81-2.81c.8-.78.8-2.07 0-2.86zM5.41 20L4 18.59l7.72-7.72 1.47 1.35L5.41 20z\"/>\n",
              "  </svg>\n",
              "      </button>\n",
              "      \n",
              "  <style>\n",
              "    .colab-df-container {\n",
              "      display:flex;\n",
              "      flex-wrap:wrap;\n",
              "      gap: 12px;\n",
              "    }\n",
              "\n",
              "    .colab-df-convert {\n",
              "      background-color: #E8F0FE;\n",
              "      border: none;\n",
              "      border-radius: 50%;\n",
              "      cursor: pointer;\n",
              "      display: none;\n",
              "      fill: #1967D2;\n",
              "      height: 32px;\n",
              "      padding: 0 0 0 0;\n",
              "      width: 32px;\n",
              "    }\n",
              "\n",
              "    .colab-df-convert:hover {\n",
              "      background-color: #E2EBFA;\n",
              "      box-shadow: 0px 1px 2px rgba(60, 64, 67, 0.3), 0px 1px 3px 1px rgba(60, 64, 67, 0.15);\n",
              "      fill: #174EA6;\n",
              "    }\n",
              "\n",
              "    [theme=dark] .colab-df-convert {\n",
              "      background-color: #3B4455;\n",
              "      fill: #D2E3FC;\n",
              "    }\n",
              "\n",
              "    [theme=dark] .colab-df-convert:hover {\n",
              "      background-color: #434B5C;\n",
              "      box-shadow: 0px 1px 3px 1px rgba(0, 0, 0, 0.15);\n",
              "      filter: drop-shadow(0px 1px 2px rgba(0, 0, 0, 0.3));\n",
              "      fill: #FFFFFF;\n",
              "    }\n",
              "  </style>\n",
              "\n",
              "      <script>\n",
              "        const buttonEl =\n",
              "          document.querySelector('#df-a4ef4cb5-0a2b-4a3f-a4d0-b8e01117de30 button.colab-df-convert');\n",
              "        buttonEl.style.display =\n",
              "          google.colab.kernel.accessAllowed ? 'block' : 'none';\n",
              "\n",
              "        async function convertToInteractive(key) {\n",
              "          const element = document.querySelector('#df-a4ef4cb5-0a2b-4a3f-a4d0-b8e01117de30');\n",
              "          const dataTable =\n",
              "            await google.colab.kernel.invokeFunction('convertToInteractive',\n",
              "                                                     [key], {});\n",
              "          if (!dataTable) return;\n",
              "\n",
              "          const docLinkHtml = 'Like what you see? Visit the ' +\n",
              "            '<a target=\"_blank\" href=https://colab.research.google.com/notebooks/data_table.ipynb>data table notebook</a>'\n",
              "            + ' to learn more about interactive tables.';\n",
              "          element.innerHTML = '';\n",
              "          dataTable['output_type'] = 'display_data';\n",
              "          await google.colab.output.renderOutput(dataTable, element);\n",
              "          const docLink = document.createElement('div');\n",
              "          docLink.innerHTML = docLinkHtml;\n",
              "          element.appendChild(docLink);\n",
              "        }\n",
              "      </script>\n",
              "    </div>\n",
              "  </div>\n",
              "  "
            ]
          },
          "metadata": {},
          "execution_count": 24
        }
      ]
    },
    {
      "cell_type": "code",
      "source": [
        "data_train['CODE_GENDER'] = data_train['CODE_GENDER'].replace('NaN', np.nan)"
      ],
      "metadata": {
        "id": "HXINoLJ7Kwxx"
      },
      "execution_count": null,
      "outputs": []
    },
    {
      "cell_type": "code",
      "source": [
        "data_train.isna().sum()"
      ],
      "metadata": {
        "colab": {
          "base_uri": "https://localhost:8080/"
        },
        "id": "tt-asBBcMx1m",
        "outputId": "c50b75e6-475d-4f0f-ed9b-831c11638f11"
      },
      "execution_count": null,
      "outputs": [
        {
          "output_type": "execute_result",
          "data": {
            "text/plain": [
              "SK_ID_CURR                     0\n",
              "TARGET                         0\n",
              "NAME_CONTRACT_TYPE             0\n",
              "CODE_GENDER                    2\n",
              "FLAG_OWN_CAR                   0\n",
              "FLAG_OWN_REALTY                0\n",
              "CNT_CHILDREN                   0\n",
              "AMT_INCOME_TOTAL               0\n",
              "AMT_CREDIT                     0\n",
              "AMT_ANNUITY                    0\n",
              "AMT_GOODS_PRICE                0\n",
              "NAME_TYPE_SUITE                0\n",
              "NAME_INCOME_TYPE               0\n",
              "NAME_EDUCATION_TYPE            0\n",
              "NAME_FAMILY_STATUS             0\n",
              "NAME_HOUSING_TYPE              0\n",
              "REGION_POPULATION_RELATIVE     0\n",
              "DAYS_BIRTH                     0\n",
              "DAYS_EMPLOYED                  0\n",
              "DAYS_REGISTRATION              0\n",
              "DAYS_ID_PUBLISH                0\n",
              "FLAG_MOBIL                     0\n",
              "FLAG_EMP_PHONE                 0\n",
              "FLAG_WORK_PHONE                0\n",
              "FLAG_CONT_MOBILE               0\n",
              "FLAG_PHONE                     0\n",
              "FLAG_EMAIL                     0\n",
              "OCCUPATION_TYPE                0\n",
              "CNT_FAM_MEMBERS                0\n",
              "REGION_RATING_CLIENT           0\n",
              "REGION_RATING_CLIENT_W_CITY    0\n",
              "WEEKDAY_APPR_PROCESS_START     0\n",
              "HOUR_APPR_PROCESS_START        0\n",
              "REG_REGION_NOT_LIVE_REGION     0\n",
              "REG_REGION_NOT_WORK_REGION     0\n",
              "LIVE_REGION_NOT_WORK_REGION    0\n",
              "REG_CITY_NOT_LIVE_CITY         0\n",
              "REG_CITY_NOT_WORK_CITY         0\n",
              "LIVE_CITY_NOT_WORK_CITY        0\n",
              "ORGANIZATION_TYPE              0\n",
              "EXT_SOURCE_2                   0\n",
              "EXT_SOURCE_3                   0\n",
              "OBS_30_CNT_SOCIAL_CIRCLE       0\n",
              "DEF_30_CNT_SOCIAL_CIRCLE       0\n",
              "OBS_60_CNT_SOCIAL_CIRCLE       0\n",
              "DEF_60_CNT_SOCIAL_CIRCLE       0\n",
              "DAYS_LAST_PHONE_CHANGE         0\n",
              "FLAG_DOCUMENT_2                0\n",
              "FLAG_DOCUMENT_3                0\n",
              "FLAG_DOCUMENT_4                0\n",
              "FLAG_DOCUMENT_5                0\n",
              "FLAG_DOCUMENT_6                0\n",
              "FLAG_DOCUMENT_7                0\n",
              "FLAG_DOCUMENT_8                0\n",
              "FLAG_DOCUMENT_9                0\n",
              "FLAG_DOCUMENT_10               0\n",
              "FLAG_DOCUMENT_11               0\n",
              "FLAG_DOCUMENT_12               0\n",
              "FLAG_DOCUMENT_13               0\n",
              "FLAG_DOCUMENT_14               0\n",
              "FLAG_DOCUMENT_15               0\n",
              "FLAG_DOCUMENT_16               0\n",
              "FLAG_DOCUMENT_17               0\n",
              "FLAG_DOCUMENT_18               0\n",
              "FLAG_DOCUMENT_19               0\n",
              "FLAG_DOCUMENT_20               0\n",
              "FLAG_DOCUMENT_21               0\n",
              "AMT_REQ_CREDIT_BUREAU_HOUR     0\n",
              "AMT_REQ_CREDIT_BUREAU_DAY      0\n",
              "AMT_REQ_CREDIT_BUREAU_WEEK     0\n",
              "AMT_REQ_CREDIT_BUREAU_MON      0\n",
              "AMT_REQ_CREDIT_BUREAU_QRT      0\n",
              "AMT_REQ_CREDIT_BUREAU_YEAR     0\n",
              "dtype: int64"
            ]
          },
          "metadata": {},
          "execution_count": 26
        }
      ]
    },
    {
      "cell_type": "code",
      "source": [
        "data_train = data_train.dropna()"
      ],
      "metadata": {
        "id": "NPaJmIfNM4PX"
      },
      "execution_count": null,
      "outputs": []
    },
    {
      "cell_type": "code",
      "source": [
        "data_train.shape"
      ],
      "metadata": {
        "colab": {
          "base_uri": "https://localhost:8080/"
        },
        "id": "SYcM016mNKsX",
        "outputId": "cbd8af1c-f115-4d79-e100-e7e9391b7c95"
      },
      "execution_count": null,
      "outputs": [
        {
          "output_type": "execute_result",
          "data": {
            "text/plain": [
              "(167730, 73)"
            ]
          },
          "metadata": {},
          "execution_count": 28
        }
      ]
    },
    {
      "cell_type": "code",
      "source": [
        "for kolom in categorical_data:\n",
        "    data_train[kolom] = encoder.fit_transform(data_train[kolom])\n",
        "    data_test[kolom] = encoder.fit_transform(data_test[kolom])"
      ],
      "metadata": {
        "id": "C0M91AW1Ts2n"
      },
      "execution_count": null,
      "outputs": []
    },
    {
      "cell_type": "code",
      "source": [
        "for kolom in categorical_data:\n",
        "    print(kolom,data_train[kolom].unique())"
      ],
      "metadata": {
        "colab": {
          "base_uri": "https://localhost:8080/"
        },
        "id": "BVgNE8dVVAe2",
        "outputId": "df2fcd2e-fa87-4eb9-8355-6060e418f275"
      },
      "execution_count": null,
      "outputs": [
        {
          "output_type": "stream",
          "name": "stdout",
          "text": [
            "NAME_CONTRACT_TYPE [0 1]\n",
            "CODE_GENDER [1 0]\n",
            "FLAG_OWN_CAR [0 1]\n",
            "FLAG_OWN_REALTY [1 0]\n",
            "NAME_TYPE_SUITE [6 5 1 3 0 4 2]\n",
            "NAME_INCOME_TYPE [5 3 1 4 0 2]\n",
            "NAME_EDUCATION_TYPE [4 1 2 3 0]\n",
            "NAME_FAMILY_STATUS [3 1 4 0 2]\n",
            "NAME_HOUSING_TYPE [1 4 5 2 3 0]\n",
            "OCCUPATION_TYPE [ 8  0 10  3  4 14  1  2 12 11 16  9 13 15  6 17  7  5]\n",
            "WEEKDAY_APPR_PROCESS_START [6 1 3 2 0 4 5]\n",
            "ORGANIZATION_TYPE [ 5 11 33 30  4 42 13 28 51 16 55 39 43 40 46 34  7  3  1 38 53 47 20 12\n",
            " 31 26 35  2 50 19 54 56  9 52 17 27 14 21 24 41 10 32 45 22 15 29  0 49\n",
            "  6 18 25 36  8 44 37 23 48]\n"
          ]
        }
      ]
    },
    {
      "cell_type": "markdown",
      "source": [
        "# Check Correlation"
      ],
      "metadata": {
        "id": "suTqEdO2KKK8"
      }
    },
    {
      "cell_type": "code",
      "source": [
        "plt.figure(figsize=(20,20))\n",
        "sns.heatmap(data_train.corr())"
      ],
      "metadata": {
        "colab": {
          "base_uri": "https://localhost:8080/",
          "height": 390
        },
        "id": "XJ3goQ25Vr9D",
        "outputId": "9d69a930-7169-42c6-f1b9-a11741fb9ce2"
      },
      "execution_count": null,
      "outputs": [
        {
          "output_type": "execute_result",
          "data": {
            "text/plain": [
              "<matplotlib.axes._subplots.AxesSubplot at 0x7f70ba326890>"
            ]
          },
          "metadata": {},
          "execution_count": 31
        },
        {
          "output_type": "display_data",
          "data": {
            "text/plain": [
              "<Figure size 1440x1440 with 2 Axes>"
            ],
            "image/png": "[encoded data removed]"
          },
          "metadata": {
            "needs_background": "light"
          }
        }
      ]
    },
    {
      "cell_type": "code",
      "source": [
        "corr_matrix = data_train.corr().abs()\n",
        "upper = corr_matrix.where(np.triu(np.ones(corr_matrix.shape), k=1).astype(np.bool))\n",
        "to_drop_hicorr = [column for column in upper.columns if any(upper[column] > 0.7)]"
      ],
      "metadata": {
        "colab": {
          "base_uri": "https://localhost:8080/"
        },
        "id": "NxsNZ7VYb4bM",
        "outputId": "e9f362b5-29f7-4d89-c12e-521c553b8013"
      },
      "execution_count": null,
      "outputs": [
        {
          "output_type": "stream",
          "name": "stderr",
          "text": [
            "/usr/local/lib/python3.7/dist-packages/ipykernel_launcher.py:2: DeprecationWarning: `np.bool` is a deprecated alias for the builtin `bool`. To silence this warning, use `bool` by itself. Doing this will not modify any behavior and is safe. If you specifically wanted the numpy scalar type, use `np.bool_` here.\n",
            "Deprecated in NumPy 1.20; for more details and guidance: https://numpy.org/devdocs/release/1.20.0-notes.html#deprecations\n",
            "  \n"
          ]
        }
      ]
    },
    {
      "cell_type": "code",
      "source": [
        "to_drop_hicorr\n",
        "['CNT_FAM_MEMBERS',\n",
        " 'AMT_GOODS_PRICE',\n",
        " 'REGION_RATING_CLIENT_W_CITY',\n",
        " 'OBS_60_CNT_SOCIAL_CIRCLE']"
      ],
      "metadata": {
        "colab": {
          "base_uri": "https://localhost:8080/"
        },
        "id": "-UQ8uEqCd7AS",
        "outputId": "5934e2bb-80fb-4c09-d363-bccca7501f63"
      },
      "execution_count": null,
      "outputs": [
        {
          "output_type": "execute_result",
          "data": {
            "text/plain": [
              "['CNT_FAM_MEMBERS',\n",
              " 'AMT_GOODS_PRICE',\n",
              " 'REGION_RATING_CLIENT_W_CITY',\n",
              " 'OBS_60_CNT_SOCIAL_CIRCLE']"
            ]
          },
          "metadata": {},
          "execution_count": 33
        }
      ]
    },
    {
      "cell_type": "code",
      "source": [
        "data_train.drop(to_drop_hicorr, axis=1, inplace=True)"
      ],
      "metadata": {
        "id": "zvNp7RmcfQfe"
      },
      "execution_count": null,
      "outputs": []
    },
    {
      "cell_type": "code",
      "source": [
        "data_test.drop(to_drop_hicorr, axis=1, inplace=True)"
      ],
      "metadata": {
        "id": "_h8Qa6hdPM_8"
      },
      "execution_count": null,
      "outputs": []
    },
    {
      "cell_type": "code",
      "source": [
        "numerical_cols = [col for col in data_train.columns.tolist() if col not in categorical_data + ['TARGET']]\n",
        "numerical_cols = [col for col in data_test.columns.tolist() if col not in categorical_data]"
      ],
      "metadata": {
        "id": "tKmiV3yyWJCa"
      },
      "execution_count": null,
      "outputs": []
    },
    {
      "cell_type": "code",
      "source": [
        "from sklearn.preprocessing import StandardScaler\n",
        "\n",
        "ss = StandardScaler()\n",
        "std = pd.DataFrame(ss.fit_transform(data_train[numerical_cols]),columns= numerical_cols)"
      ],
      "metadata": {
        "id": "pqhL3EW5X13x"
      },
      "execution_count": null,
      "outputs": []
    },
    {
      "cell_type": "code",
      "source": [
        "data_train.drop('SK_ID_CURR', axis=1, inplace=True)\n",
        "data_test.drop('SK_ID_CURR', axis=1, inplace=True)"
      ],
      "metadata": {
        "id": "c2S-NmvVYdrm"
      },
      "execution_count": null,
      "outputs": []
    },
    {
      "cell_type": "markdown",
      "source": [
        "# Check Data Target (balanced/imbalanced)"
      ],
      "metadata": {
        "id": "T21IgrzGKWM-"
      }
    },
    {
      "cell_type": "code",
      "source": [
        "sns.countplot(data_train['TARGET'])"
      ],
      "metadata": {
        "colab": {
          "base_uri": "https://localhost:8080/",
          "height": 317
        },
        "id": "wiVhkAo6-7jE",
        "outputId": "f1411fc5-ff5e-4b98-e4a8-b773933b99bb"
      },
      "execution_count": null,
      "outputs": [
        {
          "output_type": "stream",
          "name": "stderr",
          "text": [
            "/usr/local/lib/python3.7/dist-packages/seaborn/_decorators.py:43: FutureWarning: Pass the following variable as a keyword arg: x. From version 0.12, the only valid positional argument will be `data`, and passing other arguments without an explicit keyword will result in an error or misinterpretation.\n",
            "  FutureWarning\n"
          ]
        },
        {
          "output_type": "execute_result",
          "data": {
            "text/plain": [
              "<matplotlib.axes._subplots.AxesSubplot at 0x7f70b6f737d0>"
            ]
          },
          "metadata": {},
          "execution_count": 39
        },
        {
          "output_type": "display_data",
          "data": {
            "text/plain": [
              "<Figure size 432x288 with 1 Axes>"
            ],
            "image/png": "[encoded data removed]"
          },
          "metadata": {
            "needs_background": "light"
          }
        }
      ]
    },
    {
      "cell_type": "markdown",
      "source": [
        "Terjadi imbalanced data oversampling yaitu terdapat majority class yang jauh lebih besar pada Target=0 (tidak memiliki kesulitan pembayaran). Imbalanced data dapat menghasilkan data yang tidak akurat.\n",
        "Solusi untuk mengatasi imbalanced data salah satunya menggunakan teknik SMOTE.Metode Synthetic Minority Over-samplingTechnique (SMOTE) merupakan teknik yang mensintesis sampel baru dari kelas minoritas untuk menyeimbangkan dataset dengan cara membuat instance baru dari minority class dengan pembentukan convex kombinasi dari instances yang saling berdekatan"
      ],
      "metadata": {
        "id": "X5IB89m7Kg8h"
      }
    },
    {
      "cell_type": "markdown",
      "source": [
        "# Modelling"
      ],
      "metadata": {
        "id": "X9e2NXnqL5e6"
      }
    },
    {
      "cell_type": "code",
      "source": [
        "from imblearn.over_sampling import SMOTE\n",
        "from sklearn.model_selection import train_test_split\n",
        "\n",
        "x = data_train.drop('TARGET', axis=1)\n",
        "y = data_train['TARGET']\n",
        "x_train, x_test, y_train, y_test = train_test_split(x, y, test_size=0.2, random_state=123)\n",
        "sm = SMOTE(random_state=32, k_neighbors=2)\n",
        "x_train, y_train = sm.fit_resample(x_train, y_train)"
      ],
      "metadata": {
        "id": "EdwiC4e6D65b"
      },
      "execution_count": null,
      "outputs": []
    },
    {
      "cell_type": "markdown",
      "source": [
        "# Algoritma XGBoostClassifier"
      ],
      "metadata": {
        "id": "KdiQbqV6MCly"
      }
    },
    {
      "cell_type": "code",
      "source": [
        "from xgboost import XGBClassifier\n",
        "from sklearn import metrics\n",
        "import seaborn as sns\n",
        "\n",
        "xgb = XGBClassifier()\n",
        "xgb.fit(x_train, y_train)\n",
        "y_pred_test = xgb.predict(x_test)\n",
        "print(\"Accuracy:\",metrics.accuracy_score(y_test, y_pred_test))\n",
        "print(metrics.classification_report(y_test, y_pred_test))"
      ],
      "metadata": {
        "colab": {
          "base_uri": "https://localhost:8080/"
        },
        "id": "VW5xGmLZD9yG",
        "outputId": "35bec498-de80-458a-fbda-516ec9e8ce7e"
      },
      "execution_count": null,
      "outputs": [
        {
          "output_type": "stream",
          "name": "stdout",
          "text": [
            "Accuracy: 0.9012102784236571\n",
            "              precision    recall  f1-score   support\n",
            "\n",
            "           0       0.92      0.98      0.95     30679\n",
            "           1       0.21      0.06      0.09      2867\n",
            "\n",
            "    accuracy                           0.90     33546\n",
            "   macro avg       0.57      0.52      0.52     33546\n",
            "weighted avg       0.86      0.90      0.87     33546\n",
            "\n"
          ]
        }
      ]
    },
    {
      "cell_type": "code",
      "source": [
        "xgb.fit(x_test, y_test)\n",
        "y_pred_test = xgb.predict(x_test)\n",
        "print(\"Accuracy:\",metrics.accuracy_score(y_test, y_pred_test))\n",
        "print(metrics.classification_report(y_test, y_pred_test))"
      ],
      "metadata": {
        "colab": {
          "base_uri": "https://localhost:8080/"
        },
        "id": "VdLFVMU5JGLE",
        "outputId": "441385d3-300c-465b-b9e9-31cad967cd65"
      },
      "execution_count": null,
      "outputs": [
        {
          "output_type": "stream",
          "name": "stdout",
          "text": [
            "Accuracy: 0.9153997495975675\n",
            "              precision    recall  f1-score   support\n",
            "\n",
            "           0       0.92      1.00      0.96     30679\n",
            "           1       0.78      0.01      0.03      2867\n",
            "\n",
            "    accuracy                           0.92     33546\n",
            "   macro avg       0.85      0.51      0.49     33546\n",
            "weighted avg       0.90      0.92      0.88     33546\n",
            "\n"
          ]
        }
      ]
    },
    {
      "cell_type": "code",
      "source": [
        "#confusion matrix\n",
        "cm_array = metrics.confusion_matrix(y_test, y_pred_test)\n",
        "df_cm = pd.DataFrame(cm_array,\n",
        "                     index=[\"0\", \"1\"],\n",
        "                     columns=[\"0\", \"1\"])\n",
        "sns.set(font_scale=1.4) # for label size\n",
        "sns.heatmap(df_cm, annot=True, annot_kws={\"size\": 16}, fmt='g') # font size\n",
        "plt.title(\"Confusion Matrix\")\n",
        "plt.show()"
      ],
      "metadata": {
        "colab": {
          "base_uri": "https://localhost:8080/",
          "height": 244
        },
        "id": "VE8JbFiiKhky",
        "outputId": "8cbf92a7-91d7-4d5b-ffe3-d89eb01a03ee"
      },
      "execution_count": null,
      "outputs": [
        {
          "output_type": "display_data",
          "data": {
            "text/plain": [
              "<Figure size 432x288 with 2 Axes>"
            ],
            "image/png": "[encoded data removed]"
          },
          "metadata": {}
        }
      ]
    },
    {
      "cell_type": "code",
      "source": [
        "from sklearn.metrics import roc_auc_score\n",
        "roc_auc_score(y_test, y_pred_test)"
      ],
      "metadata": {
        "colab": {
          "base_uri": "https://localhost:8080/"
        },
        "id": "lOuNcrvcLQqX",
        "outputId": "88af4a07-14ab-4c93-bdc7-14872c612aa5"
      },
      "execution_count": null,
      "outputs": [
        {
          "output_type": "execute_result",
          "data": {
            "text/plain": [
              "0.5067966573049763"
            ]
          },
          "metadata": {},
          "execution_count": 60
        }
      ]
    },
    {
      "cell_type": "code",
      "source": [
        "results_dict = {}"
      ],
      "metadata": {
        "id": "It9dSD_mT_Wz"
      },
      "execution_count": null,
      "outputs": []
    },
    {
      "cell_type": "markdown",
      "source": [
        "Hyperparamater XGBoostClassifier"
      ],
      "metadata": {
        "id": "B7v9S389MSKA"
      }
    },
    {
      "cell_type": "code",
      "source": [
        "# A parameter grid for XGBoost\n",
        "params = {\n",
        "        'min_child_weight': [1, 5, 10],\n",
        "        'gamma': [0.5, 1, 1.5, 2, 5],\n",
        "        'subsample': [0.6, 0.8, 1.0],\n",
        "        'colsample_bytree': [0.6, 0.8, 1.0],\n",
        "        'max_depth': [3, 4, 5]\n",
        "        }"
      ],
      "metadata": {
        "id": "Youj9M8lSzpb"
      },
      "execution_count": null,
      "outputs": []
    },
    {
      "cell_type": "code",
      "source": [
        "xgb_grid = XGBClassifier(learning_rate=0.02, n_estimators=600, param_grid = params, objective='binary:logistic', silent=True, nthread=1)"
      ],
      "metadata": {
        "id": "WcoZhMmaVAbv"
      },
      "execution_count": null,
      "outputs": []
    },
    {
      "cell_type": "code",
      "source": [
        "xgb_grid.fit(x, y)"
      ],
      "metadata": {
        "colab": {
          "base_uri": "https://localhost:8080/"
        },
        "id": "kwPmGESyVm9N",
        "outputId": "4b42c759-d76c-4898-fc6a-f905133b9cff"
      },
      "execution_count": null,
      "outputs": [
        {
          "output_type": "execute_result",
          "data": {
            "text/plain": [
              "XGBClassifier(learning_rate=0.02, n_estimators=600, nthread=1,\n",
              "              param_grid={'colsample_bytree': [0.6, 0.8, 1.0],\n",
              "                          'gamma': [0.5, 1, 1.5, 2, 5], 'max_depth': [3, 4, 5],\n",
              "                          'min_child_weight': [1, 5, 10],\n",
              "                          'subsample': [0.6, 0.8, 1.0]},\n",
              "              silent=True)"
            ]
          },
          "metadata": {},
          "execution_count": 101
        }
      ]
    },
    {
      "cell_type": "code",
      "source": [
        "y_pred_grid = xgb_grid.predict(x_test)\n",
        "print(\"Accuracy:\",metrics.accuracy_score(y_test, y_pred_grid))\n",
        "print(metrics.classification_report(y_test, y_pred_grid))"
      ],
      "metadata": {
        "colab": {
          "base_uri": "https://localhost:8080/"
        },
        "id": "5uY1t2T9Wslf",
        "outputId": "be27a315-078d-4766-c7d4-dfebf9cbd07f"
      },
      "execution_count": null,
      "outputs": [
        {
          "output_type": "stream",
          "name": "stdout",
          "text": [
            "Accuracy: 0.915161271090443\n",
            "              precision    recall  f1-score   support\n",
            "\n",
            "           0       0.92      1.00      0.96     30679\n",
            "           1       0.80      0.01      0.02      2867\n",
            "\n",
            "    accuracy                           0.92     33546\n",
            "   macro avg       0.86      0.50      0.49     33546\n",
            "weighted avg       0.91      0.92      0.88     33546\n",
            "\n"
          ]
        }
      ]
    },
    {
      "cell_type": "code",
      "source": [
        "from sklearn.metrics import roc_auc_score\n",
        "roc_auc_score(y_test, y_pred_grid)"
      ],
      "metadata": {
        "colab": {
          "base_uri": "https://localhost:8080/"
        },
        "id": "e6De4uCfXNRd",
        "outputId": "73c4754d-35aa-4e63-b40f-f2c9f4be865b"
      },
      "execution_count": null,
      "outputs": [
        {
          "output_type": "execute_result",
          "data": {
            "text/plain": [
              "0.5047690685687785"
            ]
          },
          "metadata": {},
          "execution_count": 103
        }
      ]
    },
    {
      "cell_type": "markdown",
      "source": [
        "# Algoritma Logistic Regression"
      ],
      "metadata": {
        "id": "5D6kat_TMex2"
      }
    },
    {
      "cell_type": "code",
      "source": [
        "from sklearn.linear_model import LogisticRegression\n",
        "logreg = LogisticRegression().fit(x_train,y_train)"
      ],
      "metadata": {
        "id": "ER0QO1KgjSN3"
      },
      "execution_count": null,
      "outputs": []
    },
    {
      "cell_type": "code",
      "source": [
        "prediction = logreg.predict(x_test)"
      ],
      "metadata": {
        "id": "pYvy6WtGjrwm"
      },
      "execution_count": null,
      "outputs": []
    },
    {
      "cell_type": "code",
      "source": [
        "print('Training Accuracy:', logreg.score(x_train,y_train))\n",
        "print('Testing Accuracy:', logreg.score(x_test,y_test))"
      ],
      "metadata": {
        "colab": {
          "base_uri": "https://localhost:8080/"
        },
        "id": "1tzuH0Bnjt-C",
        "outputId": "d5294cad-8a8e-491c-ae69-6040a18e8527"
      },
      "execution_count": null,
      "outputs": [
        {
          "output_type": "stream",
          "name": "stdout",
          "text": [
            "Training Accuracy: 0.5630067402559343\n",
            "Testing Accuracy: 0.5571454122697191\n"
          ]
        }
      ]
    },
    {
      "cell_type": "code",
      "source": [
        "#confusion matrix\n",
        "cm_array = metrics.confusion_matrix(y_test, prediction)\n",
        "df_cm = pd.DataFrame(cm_array,\n",
        "                     index=[\"0\", \"1\"],\n",
        "                     columns=[\"0\", \"1\"])\n",
        "sns.set(font_scale=1.4) # for label size\n",
        "sns.heatmap(df_cm, annot=True, annot_kws={\"size\": 16}, fmt='g') # font size\n",
        "plt.title(\"Confusion Matrix\")\n",
        "plt.show()"
      ],
      "metadata": {
        "colab": {
          "base_uri": "https://localhost:8080/",
          "height": 244
        },
        "id": "WbeZZM9mj6xn",
        "outputId": "c1f93997-b9b7-42e2-a95a-e7fbf42d87fb"
      },
      "execution_count": null,
      "outputs": [
        {
          "output_type": "display_data",
          "data": {
            "text/plain": [
              "<Figure size 432x288 with 2 Axes>"
            ],
            "image/png": "[encoded data removed]"
          },
          "metadata": {}
        }
      ]
    },
    {
      "cell_type": "code",
      "source": [
        "from sklearn.metrics import classification_report\n",
        "cr = classification_report(y_test,prediction)\n",
        "print(cr)"
      ],
      "metadata": {
        "colab": {
          "base_uri": "https://localhost:8080/"
        },
        "id": "m8aUc7FWj9yw",
        "outputId": "464fafce-ee17-42fb-ec04-910ed25932f7"
      },
      "execution_count": null,
      "outputs": [
        {
          "output_type": "stream",
          "name": "stdout",
          "text": [
            "              precision    recall  f1-score   support\n",
            "\n",
            "           0       0.93      0.56      0.70     30679\n",
            "           1       0.11      0.57      0.18      2867\n",
            "\n",
            "    accuracy                           0.56     33546\n",
            "   macro avg       0.52      0.56      0.44     33546\n",
            "weighted avg       0.86      0.56      0.65     33546\n",
            "\n"
          ]
        }
      ]
    },
    {
      "cell_type": "code",
      "source": [
        "from sklearn.metrics import roc_auc_score\n",
        "roc_auc_score(y_test, prediction)"
      ],
      "metadata": {
        "colab": {
          "base_uri": "https://localhost:8080/"
        },
        "id": "uGsNuc5yX6mv",
        "outputId": "c65f4d1d-c807-4cdb-ca29-c988c53682bf"
      },
      "execution_count": null,
      "outputs": [
        {
          "output_type": "execute_result",
          "data": {
            "text/plain": [
              "0.5612029206236755"
            ]
          },
          "metadata": {},
          "execution_count": 67
        }
      ]
    },
    {
      "cell_type": "markdown",
      "source": [
        "Hyperparameter Logistic Regression"
      ],
      "metadata": {
        "id": "uQcNyXa4Mn2w"
      }
    },
    {
      "cell_type": "code",
      "source": [
        "penalty = ['l1', 'l2']\n",
        "C = np.logspace(1,5,10)"
      ],
      "metadata": {
        "id": "ktxcWhDPZKGc"
      },
      "execution_count": null,
      "outputs": []
    },
    {
      "cell_type": "code",
      "source": [
        "hyperparameters = dict(penalty=penalty, C=C)"
      ],
      "metadata": {
        "id": "M0w_cweNZWn4"
      },
      "execution_count": null,
      "outputs": []
    },
    {
      "cell_type": "code",
      "source": [
        "logreg = LogisticRegression()"
      ],
      "metadata": {
        "id": "0v-MawARZYrR"
      },
      "execution_count": null,
      "outputs": []
    },
    {
      "cell_type": "code",
      "source": [
        "from sklearn.model_selection import GridSearchCV\n",
        "clf = GridSearchCV(logreg, hyperparameters, cv=5)"
      ],
      "metadata": {
        "id": "FEuxvUs4Zg_L"
      },
      "execution_count": null,
      "outputs": []
    },
    {
      "cell_type": "code",
      "source": [
        "best_model = clf.fit(x,y)"
      ],
      "metadata": {
        "colab": {
          "base_uri": "https://localhost:8080/"
        },
        "id": "Sdb0cNZyNfWE",
        "outputId": "ac1b939e-eabe-4a08-9dc5-0cee4e9e1a26"
      },
      "execution_count": null,
      "outputs": [
        {
          "output_type": "stream",
          "name": "stderr",
          "text": [
            "/usr/local/lib/python3.7/dist-packages/sklearn/linear_model/_logistic.py:818: ConvergenceWarning: lbfgs failed to converge (status=1):\n",
            "STOP: TOTAL NO. of ITERATIONS REACHED LIMIT.\n",
            "\n",
            "Increase the number of iterations (max_iter) or scale the data as shown in:\n",
            "    https://scikit-learn.org/stable/modules/preprocessing.html\n",
            "Please also refer to the documentation for alternative solver options:\n",
            "    https://scikit-learn.org/stable/modules/linear_model.html#logistic-regression\n",
            "  extra_warning_msg=_LOGISTIC_SOLVER_CONVERGENCE_MSG,\n",
            "/usr/local/lib/python3.7/dist-packages/sklearn/linear_model/_logistic.py:818: ConvergenceWarning: lbfgs failed to converge (status=1):\n",
            "STOP: TOTAL NO. of ITERATIONS REACHED LIMIT.\n",
            "\n",
            "Increase the number of iterations (max_iter) or scale the data as shown in:\n",
            "    https://scikit-learn.org/stable/modules/preprocessing.html\n",
            "Please also refer to the documentation for alternative solver options:\n",
            "    https://scikit-learn.org/stable/modules/linear_model.html#logistic-regression\n",
            "  extra_warning_msg=_LOGISTIC_SOLVER_CONVERGENCE_MSG,\n",
            "/usr/local/lib/python3.7/dist-packages/sklearn/linear_model/_logistic.py:818: ConvergenceWarning: lbfgs failed to converge (status=1):\n",
            "STOP: TOTAL NO. of ITERATIONS REACHED LIMIT.\n",
            "\n",
            "Increase the number of iterations (max_iter) or scale the data as shown in:\n",
            "    https://scikit-learn.org/stable/modules/preprocessing.html\n",
            "Please also refer to the documentation for alternative solver options:\n",
            "    https://scikit-learn.org/stable/modules/linear_model.html#logistic-regression\n",
            "  extra_warning_msg=_LOGISTIC_SOLVER_CONVERGENCE_MSG,\n",
            "/usr/local/lib/python3.7/dist-packages/sklearn/linear_model/_logistic.py:818: ConvergenceWarning: lbfgs failed to converge (status=1):\n",
            "STOP: TOTAL NO. of ITERATIONS REACHED LIMIT.\n",
            "\n",
            "Increase the number of iterations (max_iter) or scale the data as shown in:\n",
            "    https://scikit-learn.org/stable/modules/preprocessing.html\n",
            "Please also refer to the documentation for alternative solver options:\n",
            "    https://scikit-learn.org/stable/modules/linear_model.html#logistic-regression\n",
            "  extra_warning_msg=_LOGISTIC_SOLVER_CONVERGENCE_MSG,\n",
            "/usr/local/lib/python3.7/dist-packages/sklearn/linear_model/_logistic.py:818: ConvergenceWarning: lbfgs failed to converge (status=1):\n",
            "STOP: TOTAL NO. of ITERATIONS REACHED LIMIT.\n",
            "\n",
            "Increase the number of iterations (max_iter) or scale the data as shown in:\n",
            "    https://scikit-learn.org/stable/modules/preprocessing.html\n",
            "Please also refer to the documentation for alternative solver options:\n",
            "    https://scikit-learn.org/stable/modules/linear_model.html#logistic-regression\n",
            "  extra_warning_msg=_LOGISTIC_SOLVER_CONVERGENCE_MSG,\n",
            "/usr/local/lib/python3.7/dist-packages/sklearn/linear_model/_logistic.py:818: ConvergenceWarning: lbfgs failed to converge (status=1):\n",
            "STOP: TOTAL NO. of ITERATIONS REACHED LIMIT.\n",
            "\n",
            "Increase the number of iterations (max_iter) or scale the data as shown in:\n",
            "    https://scikit-learn.org/stable/modules/preprocessing.html\n",
            "Please also refer to the documentation for alternative solver options:\n",
            "    https://scikit-learn.org/stable/modules/linear_model.html#logistic-regression\n",
            "  extra_warning_msg=_LOGISTIC_SOLVER_CONVERGENCE_MSG,\n",
            "/usr/local/lib/python3.7/dist-packages/sklearn/linear_model/_logistic.py:818: ConvergenceWarning: lbfgs failed to converge (status=1):\n",
            "STOP: TOTAL NO. of ITERATIONS REACHED LIMIT.\n",
            "\n",
            "Increase the number of iterations (max_iter) or scale the data as shown in:\n",
            "    https://scikit-learn.org/stable/modules/preprocessing.html\n",
            "Please also refer to the documentation for alternative solver options:\n",
            "    https://scikit-learn.org/stable/modules/linear_model.html#logistic-regression\n",
            "  extra_warning_msg=_LOGISTIC_SOLVER_CONVERGENCE_MSG,\n",
            "/usr/local/lib/python3.7/dist-packages/sklearn/linear_model/_logistic.py:818: ConvergenceWarning: lbfgs failed to converge (status=1):\n",
            "STOP: TOTAL NO. of ITERATIONS REACHED LIMIT.\n",
            "\n",
            "Increase the number of iterations (max_iter) or scale the data as shown in:\n",
            "    https://scikit-learn.org/stable/modules/preprocessing.html\n",
            "Please also refer to the documentation for alternative solver options:\n",
            "    https://scikit-learn.org/stable/modules/linear_model.html#logistic-regression\n",
            "  extra_warning_msg=_LOGISTIC_SOLVER_CONVERGENCE_MSG,\n",
            "/usr/local/lib/python3.7/dist-packages/sklearn/linear_model/_logistic.py:818: ConvergenceWarning: lbfgs failed to converge (status=1):\n",
            "STOP: TOTAL NO. of ITERATIONS REACHED LIMIT.\n",
            "\n",
            "Increase the number of iterations (max_iter) or scale the data as shown in:\n",
            "    https://scikit-learn.org/stable/modules/preprocessing.html\n",
            "Please also refer to the documentation for alternative solver options:\n",
            "    https://scikit-learn.org/stable/modules/linear_model.html#logistic-regression\n",
            "  extra_warning_msg=_LOGISTIC_SOLVER_CONVERGENCE_MSG,\n",
            "/usr/local/lib/python3.7/dist-packages/sklearn/linear_model/_logistic.py:818: ConvergenceWarning: lbfgs failed to converge (status=1):\n",
            "STOP: TOTAL NO. of ITERATIONS REACHED LIMIT.\n",
            "\n",
            "Increase the number of iterations (max_iter) or scale the data as shown in:\n",
            "    https://scikit-learn.org/stable/modules/preprocessing.html\n",
            "Please also refer to the documentation for alternative solver options:\n",
            "    https://scikit-learn.org/stable/modules/linear_model.html#logistic-regression\n",
            "  extra_warning_msg=_LOGISTIC_SOLVER_CONVERGENCE_MSG,\n",
            "/usr/local/lib/python3.7/dist-packages/sklearn/linear_model/_logistic.py:818: ConvergenceWarning: lbfgs failed to converge (status=1):\n",
            "STOP: TOTAL NO. of ITERATIONS REACHED LIMIT.\n",
            "\n",
            "Increase the number of iterations (max_iter) or scale the data as shown in:\n",
            "    https://scikit-learn.org/stable/modules/preprocessing.html\n",
            "Please also refer to the documentation for alternative solver options:\n",
            "    https://scikit-learn.org/stable/modules/linear_model.html#logistic-regression\n",
            "  extra_warning_msg=_LOGISTIC_SOLVER_CONVERGENCE_MSG,\n",
            "/usr/local/lib/python3.7/dist-packages/sklearn/linear_model/_logistic.py:818: ConvergenceWarning: lbfgs failed to converge (status=1):\n",
            "STOP: TOTAL NO. of ITERATIONS REACHED LIMIT.\n",
            "\n",
            "Increase the number of iterations (max_iter) or scale the data as shown in:\n",
            "    https://scikit-learn.org/stable/modules/preprocessing.html\n",
            "Please also refer to the documentation for alternative solver options:\n",
            "    https://scikit-learn.org/stable/modules/linear_model.html#logistic-regression\n",
            "  extra_warning_msg=_LOGISTIC_SOLVER_CONVERGENCE_MSG,\n",
            "/usr/local/lib/python3.7/dist-packages/sklearn/linear_model/_logistic.py:818: ConvergenceWarning: lbfgs failed to converge (status=1):\n",
            "STOP: TOTAL NO. of ITERATIONS REACHED LIMIT.\n",
            "\n",
            "Increase the number of iterations (max_iter) or scale the data as shown in:\n",
            "    https://scikit-learn.org/stable/modules/preprocessing.html\n",
            "Please also refer to the documentation for alternative solver options:\n",
            "    https://scikit-learn.org/stable/modules/linear_model.html#logistic-regression\n",
            "  extra_warning_msg=_LOGISTIC_SOLVER_CONVERGENCE_MSG,\n",
            "/usr/local/lib/python3.7/dist-packages/sklearn/linear_model/_logistic.py:818: ConvergenceWarning: lbfgs failed to converge (status=1):\n",
            "STOP: TOTAL NO. of ITERATIONS REACHED LIMIT.\n",
            "\n",
            "Increase the number of iterations (max_iter) or scale the data as shown in:\n",
            "    https://scikit-learn.org/stable/modules/preprocessing.html\n",
            "Please also refer to the documentation for alternative solver options:\n",
            "    https://scikit-learn.org/stable/modules/linear_model.html#logistic-regression\n",
            "  extra_warning_msg=_LOGISTIC_SOLVER_CONVERGENCE_MSG,\n",
            "/usr/local/lib/python3.7/dist-packages/sklearn/linear_model/_logistic.py:818: ConvergenceWarning: lbfgs failed to converge (status=1):\n",
            "STOP: TOTAL NO. of ITERATIONS REACHED LIMIT.\n",
            "\n",
            "Increase the number of iterations (max_iter) or scale the data as shown in:\n",
            "    https://scikit-learn.org/stable/modules/preprocessing.html\n",
            "Please also refer to the documentation for alternative solver options:\n",
            "    https://scikit-learn.org/stable/modules/linear_model.html#logistic-regression\n",
            "  extra_warning_msg=_LOGISTIC_SOLVER_CONVERGENCE_MSG,\n",
            "/usr/local/lib/python3.7/dist-packages/sklearn/linear_model/_logistic.py:818: ConvergenceWarning: lbfgs failed to converge (status=1):\n",
            "STOP: TOTAL NO. of ITERATIONS REACHED LIMIT.\n",
            "\n",
            "Increase the number of iterations (max_iter) or scale the data as shown in:\n",
            "    https://scikit-learn.org/stable/modules/preprocessing.html\n",
            "Please also refer to the documentation for alternative solver options:\n",
            "    https://scikit-learn.org/stable/modules/linear_model.html#logistic-regression\n",
            "  extra_warning_msg=_LOGISTIC_SOLVER_CONVERGENCE_MSG,\n",
            "/usr/local/lib/python3.7/dist-packages/sklearn/linear_model/_logistic.py:818: ConvergenceWarning: lbfgs failed to converge (status=1):\n",
            "STOP: TOTAL NO. of ITERATIONS REACHED LIMIT.\n",
            "\n",
            "Increase the number of iterations (max_iter) or scale the data as shown in:\n",
            "    https://scikit-learn.org/stable/modules/preprocessing.html\n",
            "Please also refer to the documentation for alternative solver options:\n",
            "    https://scikit-learn.org/stable/modules/linear_model.html#logistic-regression\n",
            "  extra_warning_msg=_LOGISTIC_SOLVER_CONVERGENCE_MSG,\n",
            "/usr/local/lib/python3.7/dist-packages/sklearn/linear_model/_logistic.py:818: ConvergenceWarning: lbfgs failed to converge (status=1):\n",
            "STOP: TOTAL NO. of ITERATIONS REACHED LIMIT.\n",
            "\n",
            "Increase the number of iterations (max_iter) or scale the data as shown in:\n",
            "    https://scikit-learn.org/stable/modules/preprocessing.html\n",
            "Please also refer to the documentation for alternative solver options:\n",
            "    https://scikit-learn.org/stable/modules/linear_model.html#logistic-regression\n",
            "  extra_warning_msg=_LOGISTIC_SOLVER_CONVERGENCE_MSG,\n",
            "/usr/local/lib/python3.7/dist-packages/sklearn/linear_model/_logistic.py:818: ConvergenceWarning: lbfgs failed to converge (status=1):\n",
            "STOP: TOTAL NO. of ITERATIONS REACHED LIMIT.\n",
            "\n",
            "Increase the number of iterations (max_iter) or scale the data as shown in:\n",
            "    https://scikit-learn.org/stable/modules/preprocessing.html\n",
            "Please also refer to the documentation for alternative solver options:\n",
            "    https://scikit-learn.org/stable/modules/linear_model.html#logistic-regression\n",
            "  extra_warning_msg=_LOGISTIC_SOLVER_CONVERGENCE_MSG,\n",
            "/usr/local/lib/python3.7/dist-packages/sklearn/model_selection/_validation.py:372: FitFailedWarning: \n",
            "50 fits failed out of a total of 100.\n",
            "The score on these train-test partitions for these parameters will be set to nan.\n",
            "If these failures are not expected, you can try to debug them by setting error_score='raise'.\n",
            "\n",
            "Below are more details about the failures:\n",
            "--------------------------------------------------------------------------------\n",
            "50 fits failed with the following error:\n",
            "Traceback (most recent call last):\n",
            "  File \"/usr/local/lib/python3.7/dist-packages/sklearn/model_selection/_validation.py\", line 680, in _fit_and_score\n",
            "    estimator.fit(X_train, y_train, **fit_params)\n",
            "  File \"/usr/local/lib/python3.7/dist-packages/sklearn/linear_model/_logistic.py\", line 1461, in fit\n",
            "    solver = _check_solver(self.solver, self.penalty, self.dual)\n",
            "  File \"/usr/local/lib/python3.7/dist-packages/sklearn/linear_model/_logistic.py\", line 449, in _check_solver\n",
            "    % (solver, penalty)\n",
            "ValueError: Solver lbfgs supports only 'l2' or 'none' penalties, got l1 penalty.\n",
            "\n",
            "  warnings.warn(some_fits_failed_message, FitFailedWarning)\n",
            "/usr/local/lib/python3.7/dist-packages/sklearn/model_selection/_search.py:972: UserWarning: One or more of the test scores are non-finite: [      nan 0.9152984       nan 0.9152984       nan 0.9152984       nan\n",
            " 0.9152984       nan 0.9152984       nan 0.9152984       nan 0.9152984\n",
            "       nan 0.9152984       nan 0.9152984       nan 0.9152984]\n",
            "  category=UserWarning,\n"
          ]
        }
      ]
    },
    {
      "cell_type": "code",
      "source": [
        "print('Best Penalty:', best_model.best_estimator_.get_params()['penalty'])\n",
        "print('Best C:', best_model.best_estimator_.get_params()['C'])"
      ],
      "metadata": {
        "colab": {
          "base_uri": "https://localhost:8080/"
        },
        "id": "idIefaxjcPZO",
        "outputId": "21729d7e-f48d-47bc-d7ed-f0af71e334ff"
      },
      "execution_count": null,
      "outputs": [
        {
          "output_type": "stream",
          "name": "stdout",
          "text": [
            "Best Penalty: l2\n",
            "Best C: 10.0\n"
          ]
        }
      ]
    },
    {
      "cell_type": "code",
      "source": [
        "y_pred = best_model.predict(x_test)"
      ],
      "metadata": {
        "id": "TV0HnEa6cX7c"
      },
      "execution_count": null,
      "outputs": []
    },
    {
      "cell_type": "code",
      "source": [
        "print(classification_report(y_test, y_pred))"
      ],
      "metadata": {
        "colab": {
          "base_uri": "https://localhost:8080/"
        },
        "id": "9k5hIdfwcfFl",
        "outputId": "ad23a8ce-5acf-4ade-a803-ff927d1519b0"
      },
      "execution_count": null,
      "outputs": [
        {
          "output_type": "stream",
          "name": "stdout",
          "text": [
            "              precision    recall  f1-score   support\n",
            "\n",
            "           0       0.91      1.00      0.96     30679\n",
            "           1       0.00      0.00      0.00      2867\n",
            "\n",
            "    accuracy                           0.91     33546\n",
            "   macro avg       0.46      0.50      0.48     33546\n",
            "weighted avg       0.84      0.91      0.87     33546\n",
            "\n"
          ]
        },
        {
          "output_type": "stream",
          "name": "stderr",
          "text": [
            "/usr/local/lib/python3.7/dist-packages/sklearn/metrics/_classification.py:1318: UndefinedMetricWarning: Precision and F-score are ill-defined and being set to 0.0 in labels with no predicted samples. Use `zero_division` parameter to control this behavior.\n",
            "  _warn_prf(average, modifier, msg_start, len(result))\n",
            "/usr/local/lib/python3.7/dist-packages/sklearn/metrics/_classification.py:1318: UndefinedMetricWarning: Precision and F-score are ill-defined and being set to 0.0 in labels with no predicted samples. Use `zero_division` parameter to control this behavior.\n",
            "  _warn_prf(average, modifier, msg_start, len(result))\n",
            "/usr/local/lib/python3.7/dist-packages/sklearn/metrics/_classification.py:1318: UndefinedMetricWarning: Precision and F-score are ill-defined and being set to 0.0 in labels with no predicted samples. Use `zero_division` parameter to control this behavior.\n",
            "  _warn_prf(average, modifier, msg_start, len(result))\n"
          ]
        }
      ]
    },
    {
      "cell_type": "code",
      "source": [
        "roc_auc_score(y_test, y_pred)"
      ],
      "metadata": {
        "colab": {
          "base_uri": "https://localhost:8080/"
        },
        "id": "Jmzl4tw-cxft",
        "outputId": "3c7b6988-7654-4d6b-b6f3-ac10d4faf8fd"
      },
      "execution_count": null,
      "outputs": [
        {
          "output_type": "execute_result",
          "data": {
            "text/plain": [
              "0.5"
            ]
          },
          "metadata": {},
          "execution_count": 78
        }
      ]
    },
    {
      "cell_type": "markdown",
      "source": [
        "# Saran"
      ],
      "metadata": {
        "id": "kLRlzf5FMv41"
      }
    },
    {
      "cell_type": "markdown",
      "source": [
        "\n",
        "Beberapa hal yang dapat dilakukan untuk project ini:\n",
        "1. Jika ingin jumlah data yang lebih banyak dapat mengisi nilai-nilai yang kosong (fill the missing value)\n",
        "2. Dapat menggunakan metode algoritma lainnya seperti Random Forest Classifier\n",
        "3. Melakukan pemeriksaan atau memastikan bahwa model yang telah dibuat tidak overfitting. Hal ini dapat dilakukan dengan mencoba membandingkan hasil performa model ketika diprediksi terhadap data training dan ketika diprediksi terhadap data testing."
      ],
      "metadata": {
        "id": "bCSpENxgMzvl"
      }
    }
  ]
}